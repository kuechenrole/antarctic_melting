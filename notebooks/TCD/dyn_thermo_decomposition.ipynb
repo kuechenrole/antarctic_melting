{
 "cells": [
  {
   "cell_type": "code",
   "execution_count": 10,
   "metadata": {},
   "outputs": [
    {
     "name": "stdout",
     "output_type": "stream",
     "text": [
      "The autoreload extension is already loaded. To reload it, use:\n",
      "  %reload_ext autoreload\n"
     ]
    }
   ],
   "source": [
    "import os\n",
    "import sys\n",
    "import xarray as xr\n",
    "import matplotlib.pyplot as plt\n",
    "import numpy as np\n",
    "import cmocean.cm as ocm\n",
    "from scipy import stats\n",
    "from scipy.signal import detrend\n",
    "import pandas as pd\n",
    "import pickle\n",
    "from scipy import fftpack\n",
    "\n",
    "proj_dir = '/home/ubuntu/bigStick/antarctic_melting'\n",
    "data_dir = os.path.join(proj_dir,'data','analysis')\n",
    "raw_dir = os.path.join(data_dir,'raw')\n",
    "int_dir = os.path.join(data_dir,'interim')\n",
    "pro_dir = os.path.join(data_dir,'processed')\n",
    "fig_dir = os.path.join(proj_dir,'reports','tidal_melting','figures')\n",
    "tab_dir = os.path.join(proj_dir,'reports','tidal_melting','tables')\n",
    "\n",
    "src_dir = os.path.join(proj_dir,'src')\n",
    "sys.path.append(src_dir)\n",
    "tools_dir = os.path.join(proj_dir,'src','tools')\n",
    "sys.path.append(tools_dir)\n",
    "\n",
    "%load_ext autoreload\n",
    "%autoreload 2\n",
    "\n",
    "from pySSA.mySSA import mySSA\n",
    "from log_progress import log_progress\n",
    "from rotate_vector_roms import rotate_vector_roms\n",
    "from make_masks import make_mask_sector,make_mask_shelf_sector,make_mask_ice_shelves"
   ]
  },
  {
   "cell_type": "code",
   "execution_count": 11,
   "metadata": {},
   "outputs": [],
   "source": [
    "file_path = os.path.join(raw_dir,'scratch','waom4','ocean_avg_hr_0010.nc')\n",
    "tides = xr.open_dataset(file_path)#,chunks={'xi_rho':75,'eta_rho':75})\n",
    "file_path = os.path.join(raw_dir,'scratch','waom4_nt','ocean_avg_hr_0010.nc')\n",
    "no_tides = xr.open_dataset(file_path)#,chunks={'xi_rho':75,'eta_rho':75})\n",
    "grid_path = os.path.join(int_dir,'grd4_dV.nc')\n",
    "grd = xr.open_dataset(grid_path)\n",
    "\n",
    "mask_sector = make_mask_sector(grd)\n",
    "mask_shelf = make_mask_shelf_sector(grd,mask_sector,1500) \n",
    "mask_shelf['Total Antarctica'][1050:1140,95:113] = True\n",
    "mask_shelf['Total Antarctica'][:,1500:] = False\n",
    "\n",
    "grd.mask_rho[570:610,1030:1140] = False"
   ]
  },
  {
   "cell_type": "code",
   "execution_count": 12,
   "metadata": {},
   "outputs": [],
   "source": [
    "sel1 = {'xi_rho':slice(714,1243),'eta_rho':slice(1408,1875)} #FRIS\n",
    "sel2 = {'xi_rho':slice(1185,1726),'eta_rho':slice(652,1146)} #Ross\n",
    "sel3 = {'xi_rho':slice(380,648),'eta_rho':slice(1114,1780)} #BSeas\n",
    "sel4 = {'xi_rho':slice(655,924),'eta_rho':slice(720,1244)} #ASeas\n",
    "sel5 = {'xi_rho':slice(2568,2665),'eta_rho':slice(637,867)} # Totten\n",
    "sel6 = {'xi_rho':slice(2322,2652),'eta_rho':slice(1650,1781)} # Amery\n",
    "sel7 = {'xi_rho':slice(1409,1595),'eta_rho':slice(2338,2496)} # Fimbul\n",
    "sel8 = {'xi_rho':slice(295,534),'eta_rho':slice(1830,2030)} # LarsenC\n",
    "sel9 = {'xi_rho':slice(390,650),'eta_rho':slice(1500,1775)} # GeorgeV\n",
    "sel10 = {'xi_rho':slice(550,775),'eta_rho':slice(1000,1250)} # PI\n",
    "sel11 = {'xi_rho':slice(2550,2750),'eta_rho':slice(650,860)} # Totten\n",
    "sel12 = {'xi_rho':slice(2330,2640),'eta_rho':slice(1550,1850)} # Amery\n",
    "sel13 = {'xi_rho':slice(425*5,455*5),'eta_rho':slice(45*5,75*5)} # Mertz\n",
    "sel14 = {'xi_rho':slice(545*5,595*5),'eta_rho':slice(200*5,250*5)} # Shackleton\n",
    "\n",
    "sels = {'Ross':sel2,'GeorgeV':sel9,'PI':sel10,'Totten':sel11,'Amery':sel12,'Fimbul':sel7,\n",
    "        'LarsenC':sel8,'Mertz':sel13,'Shackleton':sel14,'BSeas':sel3}"
   ]
  },
  {
   "cell_type": "code",
   "execution_count": 13,
   "metadata": {},
   "outputs": [],
   "source": [
    "def plot_region(tides,no_tides,sel,key):\n",
    "    \n",
    "    for k,i in sel.items():\n",
    "        sel[k] = slice(i.start//2,i.stop//2)\n",
    "    \n",
    "    print('subsetting ...')\n",
    "    t = tides.isel(sel)\n",
    "    nt = no_tides.isel(sel)\n",
    "    mask = ((grd.mask_rho==1) & (mask_shelf['Total Antarctica']==1)).isel(sel)\n",
    "    chunks = {'xi_rho':40,'eta_rho':40}\n",
    "    t = t.chunk(chunks)\n",
    "    nt = nt.chunk(chunks)\n",
    "    \n",
    "    print('processing dyn component ...')\n",
    "    dyn = ((t.ustar-nt.ustar)*nt.Tstar).where(mask).mean('ocean_time').load()\n",
    "    print('processing therm component ...')\n",
    "    therm = ((t.Tstar-nt.Tstar)*nt.ustar).where(mask).mean('ocean_time').load()\n",
    "    print('processing cov component ...')\n",
    "    cov = ((t.ustar-nt.ustar)*(t.Tstar-nt.Tstar)).where(mask).mean('ocean_time').load()\n",
    "    print('processing dMstar ...')\n",
    "    dMstar = ((t.ustar*t.Tstar).where(mask).mean('ocean_time')-\n",
    "              (nt.ustar*nt.Tstar).where(mask).mean('ocean_time')).load()\n",
    "    \n",
    "    outpath = os.path.join(pro_dir,'dynThermDecomp_'+key+'.nc')\n",
    "    print('saving results to '+outpath+' ...')\n",
    "    decomp = xr.Dataset({'dyn':dyn,'therm':therm,'cov':cov,'dMstar':dMstar})\n",
    "    decomp.to_netcdf(outpath)\n",
    "    \n",
    "    print('plotting ... ')\n",
    "    plot_decomp(decomp)\n",
    "    \n",
    "    \n",
    "def plot_m(ax,da,text,vmin=None,vmax=None):\n",
    "    total = da.sum()\n",
    "    da = da *10000\n",
    "    cmap = ocm.balance\n",
    "    cmap.set_bad(color='lightgray')\n",
    "    if vmin == None:\n",
    "        da.plot(ax=ax,vmin=-da.std()*2,vmax=da.std()*2,cmap=cmap,\n",
    "                cbar_kwargs={'label': 'u*T* in $10^{-4}$ m/s*degC'})\n",
    "    else:\n",
    "        da.plot(ax=ax,vmin=vmin,vmax=vmax,cmap=cmap,\n",
    "                cbar_kwargs={'label': 'u*T* in $10^{-4}$ m/s*degC'})\n",
    "\n",
    "    #ax = make_text(ax,f'{text}  (sum: {total.values:.2f})')\n",
    "    ax.set_title(f'{text}  (sum: {total.values:.2f})')\n",
    "    return ax\n",
    "\n",
    "def make_text(ax,text):\n",
    "    ax.text(0.1, 0.9, text, horizontalalignment='center',verticalalignment='center',\n",
    "                   transform=ax.transAxes,size=14)\n",
    "    return ax\n",
    "\n",
    "def plot_decomp(decomp,vmin=None,vmax=None):\n",
    "    fig,axes = plt.subplots(ncols=2,nrows=2,figsize=(8,8))\n",
    "    ax1,ax2,ax3,ax4 = axes.flatten()\n",
    "\n",
    "    ax1 = plot_m(ax1,decomp.dMstar,'dMstar',vmin,vmax)\n",
    "    ax2 = plot_m(ax2,decomp.therm,'dTherm',vmin,vmax)\n",
    "    ax3 = plot_m(ax3,decomp.dyn,'dDyn',vmin,vmax)\n",
    "    ax4 = plot_m(ax4,decomp.cov,'dCov',vmin,vmax)\n",
    "\n",
    "    for ax in axes.flatten():\n",
    "        ax.set_aspect('equal')\n",
    "        ax.axis('off')\n",
    "        ax.set_facecolor('gray')\n",
    "    plt.tight_layout()\n",
    "    plt.show()"
   ]
  },
  {
   "cell_type": "code",
   "execution_count": null,
   "metadata": {
    "scrolled": true
   },
   "outputs": [
    {
     "name": "stdout",
     "output_type": "stream",
     "text": [
      "processing Ross\n",
      "subsetting ...\n",
      "processing dyn component ...\n"
     ]
    }
   ],
   "source": [
    "from dask.distributed import Client\n",
    "C = Client()\n",
    "\n",
    "for k,sel in sels.items():\n",
    "    print(f'processing {k}')\n",
    "    plot_region(tides,no_tides,sel,k)"
   ]
  },
  {
   "cell_type": "code",
   "execution_count": null,
   "metadata": {},
   "outputs": [],
   "source": []
  },
  {
   "cell_type": "code",
   "execution_count": null,
   "metadata": {},
   "outputs": [],
   "source": []
  },
  {
   "cell_type": "code",
   "execution_count": null,
   "metadata": {},
   "outputs": [],
   "source": []
  },
  {
   "cell_type": "code",
   "execution_count": null,
   "metadata": {},
   "outputs": [],
   "source": []
  },
  {
   "cell_type": "code",
   "execution_count": null,
   "metadata": {},
   "outputs": [],
   "source": []
  },
  {
   "cell_type": "code",
   "execution_count": null,
   "metadata": {},
   "outputs": [],
   "source": [
    "sel = {'xi_rho' : slice(350,650),'eta_rho' : slice(700,950),\n",
    "           'xi_u' : slice(350,649),'eta_u' : slice(700,950),\n",
    "           'xi_v' : slice(350,650),'eta_v' : slice(700,949)}\n",
    "FRIS = tides.isel(sel)\n",
    "FRIS_nt = no_tides.isel(sel)\n",
    "rho_sel = {'xi_rho' : slice(350,650),'eta_rho' : slice(700,950)}\n",
    "FRIS_mask = ((grd.mask_rho==1) & (mask_shelf['Total Antarctica']==1)).isel(rho_sel)\n",
    "\n",
    "FRIS = FRIS.chunk(chunks)\n",
    "FRIS_nt = FRIS_nt.chunk(chunks)\n",
    "\n",
    "dyn2 = ((FRIS.ustar-FRIS_nt.ustar)*FRIS_nt.Tstar).where(FRIS_mask).mean('ocean_time').load()\n",
    "print('ping')\n",
    "therm2 = ((FRIS.Tstar-FRIS_nt.Tstar)*FRIS_nt.ustar).where(FRIS_mask).mean('ocean_time').load()\n",
    "print('ping')\n",
    "cov2 = ((FRIS.ustar-FRIS_nt.ustar)*(FRIS.Tstar-FRIS_nt.Tstar)).where(FRIS_mask).mean('ocean_time').load()\n",
    "print('ping')\n",
    "dMstar2 = ((FRIS.ustar*FRIS.Tstar).where(FRIS_mask).mean('ocean_time')-\n",
    "          (FRIS_nt.ustar*FRIS_nt.Tstar).where(FRIS_mask).mean('ocean_time')).load()\n",
    "print('ping')\n",
    "dsum2 = (therm2+cov2+dyn2).load()"
   ]
  },
  {
   "cell_type": "code",
   "execution_count": null,
   "metadata": {},
   "outputs": [
    {
     "name": "stderr",
     "output_type": "stream",
     "text": [
      "distributed.nanny - WARNING - Restarting worker\n",
      "distributed.nanny - WARNING - Restarting worker\n",
      "distributed.nanny - WARNING - Restarting worker\n",
      "distributed.nanny - WARNING - Restarting worker\n",
      "distributed.nanny - WARNING - Restarting worker\n"
     ]
    }
   ],
   "source": [
    "fig,axes = plt.subplots(ncols=2,nrows=3,figsize=(12,12))\n",
    "ax1,ax2,ax3,ax4,ax5,ax6 = axes.flatten()\n",
    "\n",
    "ax1 = plot_m(ax1,dMstar2,'dMstar')\n",
    "ax2 = plot_m(ax2,dsum2,'therm+dyn+cov')\n",
    "ax3 = plot_m(ax3,therm2,'therm')\n",
    "ax4 = plot_m(ax4,dyn2,'dyn')\n",
    "ax5 = plot_m(ax5,cov2,'cov')\n",
    "\n",
    "for ax in axes.flatten():\n",
    "    ax.set_aspect('equal')\n",
    "    ax.axis('off')\n",
    "plt.tight_layout()\n",
    "plt.show()"
   ]
  },
  {
   "cell_type": "code",
   "execution_count": 16,
   "metadata": {
    "scrolled": true
   },
   "outputs": [
    {
     "ename": "KeyboardInterrupt",
     "evalue": "",
     "output_type": "error",
     "traceback": [
      "\u001b[0;31m---------------------------------------------------------------------------\u001b[0m",
      "\u001b[0;31mKeyboardInterrupt\u001b[0m                         Traceback (most recent call last)",
      "\u001b[0;32m<ipython-input-16-3563884b504a>\u001b[0m in \u001b[0;36m<module>\u001b[0;34m\u001b[0m\n\u001b[1;32m     10\u001b[0m \u001b[0mAB_nt\u001b[0m \u001b[0;34m=\u001b[0m \u001b[0mAB_nt\u001b[0m\u001b[0;34m.\u001b[0m\u001b[0mchunk\u001b[0m\u001b[0;34m(\u001b[0m\u001b[0mchunks\u001b[0m\u001b[0;34m)\u001b[0m\u001b[0;34m\u001b[0m\u001b[0m\n\u001b[1;32m     11\u001b[0m \u001b[0;34m\u001b[0m\u001b[0m\n\u001b[0;32m---> 12\u001b[0;31m \u001b[0mdyn\u001b[0m \u001b[0;34m=\u001b[0m \u001b[0;34m(\u001b[0m\u001b[0;34m(\u001b[0m\u001b[0mAB\u001b[0m\u001b[0;34m.\u001b[0m\u001b[0mustar\u001b[0m\u001b[0;34m-\u001b[0m\u001b[0mAB_nt\u001b[0m\u001b[0;34m.\u001b[0m\u001b[0mustar\u001b[0m\u001b[0;34m)\u001b[0m\u001b[0;34m*\u001b[0m\u001b[0mAB_nt\u001b[0m\u001b[0;34m.\u001b[0m\u001b[0mTstar\u001b[0m\u001b[0;34m)\u001b[0m\u001b[0;34m.\u001b[0m\u001b[0mwhere\u001b[0m\u001b[0;34m(\u001b[0m\u001b[0mAB_mask\u001b[0m\u001b[0;34m)\u001b[0m\u001b[0;34m.\u001b[0m\u001b[0mmean\u001b[0m\u001b[0;34m(\u001b[0m\u001b[0;34m'ocean_time'\u001b[0m\u001b[0;34m)\u001b[0m\u001b[0;34m.\u001b[0m\u001b[0mload\u001b[0m\u001b[0;34m(\u001b[0m\u001b[0;34m)\u001b[0m\u001b[0;34m\u001b[0m\u001b[0m\n\u001b[0m\u001b[1;32m     13\u001b[0m \u001b[0mprint\u001b[0m\u001b[0;34m(\u001b[0m\u001b[0;34m'ping'\u001b[0m\u001b[0;34m)\u001b[0m\u001b[0;34m\u001b[0m\u001b[0m\n\u001b[1;32m     14\u001b[0m \u001b[0mtherm\u001b[0m \u001b[0;34m=\u001b[0m \u001b[0;34m(\u001b[0m\u001b[0;34m(\u001b[0m\u001b[0mAB\u001b[0m\u001b[0;34m.\u001b[0m\u001b[0mTstar\u001b[0m\u001b[0;34m-\u001b[0m\u001b[0mAB_nt\u001b[0m\u001b[0;34m.\u001b[0m\u001b[0mTstar\u001b[0m\u001b[0;34m)\u001b[0m\u001b[0;34m*\u001b[0m\u001b[0mAB_nt\u001b[0m\u001b[0;34m.\u001b[0m\u001b[0mustar\u001b[0m\u001b[0;34m)\u001b[0m\u001b[0;34m.\u001b[0m\u001b[0mwhere\u001b[0m\u001b[0;34m(\u001b[0m\u001b[0mAB_mask\u001b[0m\u001b[0;34m)\u001b[0m\u001b[0;34m.\u001b[0m\u001b[0mmean\u001b[0m\u001b[0;34m(\u001b[0m\u001b[0;34m'ocean_time'\u001b[0m\u001b[0;34m)\u001b[0m\u001b[0;34m.\u001b[0m\u001b[0mload\u001b[0m\u001b[0;34m(\u001b[0m\u001b[0;34m)\u001b[0m\u001b[0;34m\u001b[0m\u001b[0m\n",
      "\u001b[0;32m~/bigStick/anaconda3/envs/antarctic_melting/lib/python3.6/site-packages/xarray/core/dataarray.py\u001b[0m in \u001b[0;36mload\u001b[0;34m(self, **kwargs)\u001b[0m\n\u001b[1;32m    631\u001b[0m         \u001b[0mdask\u001b[0m\u001b[0;34m.\u001b[0m\u001b[0marray\u001b[0m\u001b[0;34m.\u001b[0m\u001b[0mcompute\u001b[0m\u001b[0;34m\u001b[0m\u001b[0m\n\u001b[1;32m    632\u001b[0m         \"\"\"\n\u001b[0;32m--> 633\u001b[0;31m         \u001b[0mds\u001b[0m \u001b[0;34m=\u001b[0m \u001b[0mself\u001b[0m\u001b[0;34m.\u001b[0m\u001b[0m_to_temp_dataset\u001b[0m\u001b[0;34m(\u001b[0m\u001b[0;34m)\u001b[0m\u001b[0;34m.\u001b[0m\u001b[0mload\u001b[0m\u001b[0;34m(\u001b[0m\u001b[0;34m**\u001b[0m\u001b[0mkwargs\u001b[0m\u001b[0;34m)\u001b[0m\u001b[0;34m\u001b[0m\u001b[0m\n\u001b[0m\u001b[1;32m    634\u001b[0m         \u001b[0mnew\u001b[0m \u001b[0;34m=\u001b[0m \u001b[0mself\u001b[0m\u001b[0;34m.\u001b[0m\u001b[0m_from_temp_dataset\u001b[0m\u001b[0;34m(\u001b[0m\u001b[0mds\u001b[0m\u001b[0;34m)\u001b[0m\u001b[0;34m\u001b[0m\u001b[0m\n\u001b[1;32m    635\u001b[0m         \u001b[0mself\u001b[0m\u001b[0;34m.\u001b[0m\u001b[0m_variable\u001b[0m \u001b[0;34m=\u001b[0m \u001b[0mnew\u001b[0m\u001b[0;34m.\u001b[0m\u001b[0m_variable\u001b[0m\u001b[0;34m\u001b[0m\u001b[0m\n",
      "\u001b[0;32m~/bigStick/anaconda3/envs/antarctic_melting/lib/python3.6/site-packages/xarray/core/dataset.py\u001b[0m in \u001b[0;36mload\u001b[0;34m(self, **kwargs)\u001b[0m\n\u001b[1;32m    489\u001b[0m \u001b[0;34m\u001b[0m\u001b[0m\n\u001b[1;32m    490\u001b[0m             \u001b[0;31m# evaluate all the dask arrays simultaneously\u001b[0m\u001b[0;34m\u001b[0m\u001b[0;34m\u001b[0m\u001b[0m\n\u001b[0;32m--> 491\u001b[0;31m             \u001b[0mevaluated_data\u001b[0m \u001b[0;34m=\u001b[0m \u001b[0mda\u001b[0m\u001b[0;34m.\u001b[0m\u001b[0mcompute\u001b[0m\u001b[0;34m(\u001b[0m\u001b[0;34m*\u001b[0m\u001b[0mlazy_data\u001b[0m\u001b[0;34m.\u001b[0m\u001b[0mvalues\u001b[0m\u001b[0;34m(\u001b[0m\u001b[0;34m)\u001b[0m\u001b[0;34m,\u001b[0m \u001b[0;34m**\u001b[0m\u001b[0mkwargs\u001b[0m\u001b[0;34m)\u001b[0m\u001b[0;34m\u001b[0m\u001b[0m\n\u001b[0m\u001b[1;32m    492\u001b[0m \u001b[0;34m\u001b[0m\u001b[0m\n\u001b[1;32m    493\u001b[0m             \u001b[0;32mfor\u001b[0m \u001b[0mk\u001b[0m\u001b[0;34m,\u001b[0m \u001b[0mdata\u001b[0m \u001b[0;32min\u001b[0m \u001b[0mzip\u001b[0m\u001b[0;34m(\u001b[0m\u001b[0mlazy_data\u001b[0m\u001b[0;34m,\u001b[0m \u001b[0mevaluated_data\u001b[0m\u001b[0;34m)\u001b[0m\u001b[0;34m:\u001b[0m\u001b[0;34m\u001b[0m\u001b[0m\n",
      "\u001b[0;32m~/bigStick/anaconda3/envs/antarctic_melting/lib/python3.6/site-packages/dask/base.py\u001b[0m in \u001b[0;36mcompute\u001b[0;34m(*args, **kwargs)\u001b[0m\n\u001b[1;32m    400\u001b[0m     \u001b[0mkeys\u001b[0m \u001b[0;34m=\u001b[0m \u001b[0;34m[\u001b[0m\u001b[0mx\u001b[0m\u001b[0;34m.\u001b[0m\u001b[0m__dask_keys__\u001b[0m\u001b[0;34m(\u001b[0m\u001b[0;34m)\u001b[0m \u001b[0;32mfor\u001b[0m \u001b[0mx\u001b[0m \u001b[0;32min\u001b[0m \u001b[0mcollections\u001b[0m\u001b[0;34m]\u001b[0m\u001b[0;34m\u001b[0m\u001b[0m\n\u001b[1;32m    401\u001b[0m     \u001b[0mpostcomputes\u001b[0m \u001b[0;34m=\u001b[0m \u001b[0;34m[\u001b[0m\u001b[0mx\u001b[0m\u001b[0;34m.\u001b[0m\u001b[0m__dask_postcompute__\u001b[0m\u001b[0;34m(\u001b[0m\u001b[0;34m)\u001b[0m \u001b[0;32mfor\u001b[0m \u001b[0mx\u001b[0m \u001b[0;32min\u001b[0m \u001b[0mcollections\u001b[0m\u001b[0;34m]\u001b[0m\u001b[0;34m\u001b[0m\u001b[0m\n\u001b[0;32m--> 402\u001b[0;31m     \u001b[0mresults\u001b[0m \u001b[0;34m=\u001b[0m \u001b[0mschedule\u001b[0m\u001b[0;34m(\u001b[0m\u001b[0mdsk\u001b[0m\u001b[0;34m,\u001b[0m \u001b[0mkeys\u001b[0m\u001b[0;34m,\u001b[0m \u001b[0;34m**\u001b[0m\u001b[0mkwargs\u001b[0m\u001b[0;34m)\u001b[0m\u001b[0;34m\u001b[0m\u001b[0m\n\u001b[0m\u001b[1;32m    403\u001b[0m     \u001b[0;32mreturn\u001b[0m \u001b[0mrepack\u001b[0m\u001b[0;34m(\u001b[0m\u001b[0;34m[\u001b[0m\u001b[0mf\u001b[0m\u001b[0;34m(\u001b[0m\u001b[0mr\u001b[0m\u001b[0;34m,\u001b[0m \u001b[0;34m*\u001b[0m\u001b[0ma\u001b[0m\u001b[0;34m)\u001b[0m \u001b[0;32mfor\u001b[0m \u001b[0mr\u001b[0m\u001b[0;34m,\u001b[0m \u001b[0;34m(\u001b[0m\u001b[0mf\u001b[0m\u001b[0;34m,\u001b[0m \u001b[0ma\u001b[0m\u001b[0;34m)\u001b[0m \u001b[0;32min\u001b[0m \u001b[0mzip\u001b[0m\u001b[0;34m(\u001b[0m\u001b[0mresults\u001b[0m\u001b[0;34m,\u001b[0m \u001b[0mpostcomputes\u001b[0m\u001b[0;34m)\u001b[0m\u001b[0;34m]\u001b[0m\u001b[0;34m)\u001b[0m\u001b[0;34m\u001b[0m\u001b[0m\n\u001b[1;32m    404\u001b[0m \u001b[0;34m\u001b[0m\u001b[0m\n",
      "\u001b[0;32m~/bigStick/anaconda3/envs/antarctic_melting/lib/python3.6/site-packages/distributed/client.py\u001b[0m in \u001b[0;36mget\u001b[0;34m(self, dsk, keys, restrictions, loose_restrictions, resources, sync, asynchronous, direct, retries, priority, fifo_timeout, **kwargs)\u001b[0m\n\u001b[1;32m   2157\u001b[0m             \u001b[0;32mtry\u001b[0m\u001b[0;34m:\u001b[0m\u001b[0;34m\u001b[0m\u001b[0m\n\u001b[1;32m   2158\u001b[0m                 results = self.gather(packed, asynchronous=asynchronous,\n\u001b[0;32m-> 2159\u001b[0;31m                                       direct=direct)\n\u001b[0m\u001b[1;32m   2160\u001b[0m             \u001b[0;32mfinally\u001b[0m\u001b[0;34m:\u001b[0m\u001b[0;34m\u001b[0m\u001b[0m\n\u001b[1;32m   2161\u001b[0m                 \u001b[0;32mfor\u001b[0m \u001b[0mf\u001b[0m \u001b[0;32min\u001b[0m \u001b[0mfutures\u001b[0m\u001b[0;34m.\u001b[0m\u001b[0mvalues\u001b[0m\u001b[0;34m(\u001b[0m\u001b[0;34m)\u001b[0m\u001b[0;34m:\u001b[0m\u001b[0;34m\u001b[0m\u001b[0m\n",
      "\u001b[0;32m~/bigStick/anaconda3/envs/antarctic_melting/lib/python3.6/site-packages/distributed/client.py\u001b[0m in \u001b[0;36mgather\u001b[0;34m(self, futures, errors, maxsize, direct, asynchronous)\u001b[0m\n\u001b[1;32m   1560\u001b[0m             return self.sync(self._gather, futures, errors=errors,\n\u001b[1;32m   1561\u001b[0m                              \u001b[0mdirect\u001b[0m\u001b[0;34m=\u001b[0m\u001b[0mdirect\u001b[0m\u001b[0;34m,\u001b[0m \u001b[0mlocal_worker\u001b[0m\u001b[0;34m=\u001b[0m\u001b[0mlocal_worker\u001b[0m\u001b[0;34m,\u001b[0m\u001b[0;34m\u001b[0m\u001b[0m\n\u001b[0;32m-> 1562\u001b[0;31m                              asynchronous=asynchronous)\n\u001b[0m\u001b[1;32m   1563\u001b[0m \u001b[0;34m\u001b[0m\u001b[0m\n\u001b[1;32m   1564\u001b[0m     \u001b[0;34m@\u001b[0m\u001b[0mgen\u001b[0m\u001b[0;34m.\u001b[0m\u001b[0mcoroutine\u001b[0m\u001b[0;34m\u001b[0m\u001b[0m\n",
      "\u001b[0;32m~/bigStick/anaconda3/envs/antarctic_melting/lib/python3.6/site-packages/distributed/client.py\u001b[0m in \u001b[0;36msync\u001b[0;34m(self, func, *args, **kwargs)\u001b[0m\n\u001b[1;32m    650\u001b[0m             \u001b[0;32mreturn\u001b[0m \u001b[0mfuture\u001b[0m\u001b[0;34m\u001b[0m\u001b[0m\n\u001b[1;32m    651\u001b[0m         \u001b[0;32melse\u001b[0m\u001b[0;34m:\u001b[0m\u001b[0;34m\u001b[0m\u001b[0m\n\u001b[0;32m--> 652\u001b[0;31m             \u001b[0;32mreturn\u001b[0m \u001b[0msync\u001b[0m\u001b[0;34m(\u001b[0m\u001b[0mself\u001b[0m\u001b[0;34m.\u001b[0m\u001b[0mloop\u001b[0m\u001b[0;34m,\u001b[0m \u001b[0mfunc\u001b[0m\u001b[0;34m,\u001b[0m \u001b[0;34m*\u001b[0m\u001b[0margs\u001b[0m\u001b[0;34m,\u001b[0m \u001b[0;34m**\u001b[0m\u001b[0mkwargs\u001b[0m\u001b[0;34m)\u001b[0m\u001b[0;34m\u001b[0m\u001b[0m\n\u001b[0m\u001b[1;32m    653\u001b[0m \u001b[0;34m\u001b[0m\u001b[0m\n\u001b[1;32m    654\u001b[0m     \u001b[0;32mdef\u001b[0m \u001b[0m__repr__\u001b[0m\u001b[0;34m(\u001b[0m\u001b[0mself\u001b[0m\u001b[0;34m)\u001b[0m\u001b[0;34m:\u001b[0m\u001b[0;34m\u001b[0m\u001b[0m\n",
      "\u001b[0;32m~/bigStick/anaconda3/envs/antarctic_melting/lib/python3.6/site-packages/distributed/utils.py\u001b[0m in \u001b[0;36msync\u001b[0;34m(loop, func, *args, **kwargs)\u001b[0m\n\u001b[1;32m    271\u001b[0m     \u001b[0;32melse\u001b[0m\u001b[0;34m:\u001b[0m\u001b[0;34m\u001b[0m\u001b[0m\n\u001b[1;32m    272\u001b[0m         \u001b[0;32mwhile\u001b[0m \u001b[0;32mnot\u001b[0m \u001b[0me\u001b[0m\u001b[0;34m.\u001b[0m\u001b[0mis_set\u001b[0m\u001b[0;34m(\u001b[0m\u001b[0;34m)\u001b[0m\u001b[0;34m:\u001b[0m\u001b[0;34m\u001b[0m\u001b[0m\n\u001b[0;32m--> 273\u001b[0;31m             \u001b[0me\u001b[0m\u001b[0;34m.\u001b[0m\u001b[0mwait\u001b[0m\u001b[0;34m(\u001b[0m\u001b[0;36m10\u001b[0m\u001b[0;34m)\u001b[0m\u001b[0;34m\u001b[0m\u001b[0m\n\u001b[0m\u001b[1;32m    274\u001b[0m     \u001b[0;32mif\u001b[0m \u001b[0merror\u001b[0m\u001b[0;34m[\u001b[0m\u001b[0;36m0\u001b[0m\u001b[0;34m]\u001b[0m\u001b[0;34m:\u001b[0m\u001b[0;34m\u001b[0m\u001b[0m\n\u001b[1;32m    275\u001b[0m         \u001b[0msix\u001b[0m\u001b[0;34m.\u001b[0m\u001b[0mreraise\u001b[0m\u001b[0;34m(\u001b[0m\u001b[0;34m*\u001b[0m\u001b[0merror\u001b[0m\u001b[0;34m[\u001b[0m\u001b[0;36m0\u001b[0m\u001b[0;34m]\u001b[0m\u001b[0;34m)\u001b[0m\u001b[0;34m\u001b[0m\u001b[0m\n",
      "\u001b[0;32m~/bigStick/anaconda3/envs/antarctic_melting/lib/python3.6/threading.py\u001b[0m in \u001b[0;36mwait\u001b[0;34m(self, timeout)\u001b[0m\n\u001b[1;32m    549\u001b[0m             \u001b[0msignaled\u001b[0m \u001b[0;34m=\u001b[0m \u001b[0mself\u001b[0m\u001b[0;34m.\u001b[0m\u001b[0m_flag\u001b[0m\u001b[0;34m\u001b[0m\u001b[0m\n\u001b[1;32m    550\u001b[0m             \u001b[0;32mif\u001b[0m \u001b[0;32mnot\u001b[0m \u001b[0msignaled\u001b[0m\u001b[0;34m:\u001b[0m\u001b[0;34m\u001b[0m\u001b[0m\n\u001b[0;32m--> 551\u001b[0;31m                 \u001b[0msignaled\u001b[0m \u001b[0;34m=\u001b[0m \u001b[0mself\u001b[0m\u001b[0;34m.\u001b[0m\u001b[0m_cond\u001b[0m\u001b[0;34m.\u001b[0m\u001b[0mwait\u001b[0m\u001b[0;34m(\u001b[0m\u001b[0mtimeout\u001b[0m\u001b[0;34m)\u001b[0m\u001b[0;34m\u001b[0m\u001b[0m\n\u001b[0m\u001b[1;32m    552\u001b[0m             \u001b[0;32mreturn\u001b[0m \u001b[0msignaled\u001b[0m\u001b[0;34m\u001b[0m\u001b[0m\n\u001b[1;32m    553\u001b[0m \u001b[0;34m\u001b[0m\u001b[0m\n",
      "\u001b[0;32m~/bigStick/anaconda3/envs/antarctic_melting/lib/python3.6/threading.py\u001b[0m in \u001b[0;36mwait\u001b[0;34m(self, timeout)\u001b[0m\n\u001b[1;32m    297\u001b[0m             \u001b[0;32melse\u001b[0m\u001b[0;34m:\u001b[0m\u001b[0;34m\u001b[0m\u001b[0m\n\u001b[1;32m    298\u001b[0m                 \u001b[0;32mif\u001b[0m \u001b[0mtimeout\u001b[0m \u001b[0;34m>\u001b[0m \u001b[0;36m0\u001b[0m\u001b[0;34m:\u001b[0m\u001b[0;34m\u001b[0m\u001b[0m\n\u001b[0;32m--> 299\u001b[0;31m                     \u001b[0mgotit\u001b[0m \u001b[0;34m=\u001b[0m \u001b[0mwaiter\u001b[0m\u001b[0;34m.\u001b[0m\u001b[0macquire\u001b[0m\u001b[0;34m(\u001b[0m\u001b[0;32mTrue\u001b[0m\u001b[0;34m,\u001b[0m \u001b[0mtimeout\u001b[0m\u001b[0;34m)\u001b[0m\u001b[0;34m\u001b[0m\u001b[0m\n\u001b[0m\u001b[1;32m    300\u001b[0m                 \u001b[0;32melse\u001b[0m\u001b[0;34m:\u001b[0m\u001b[0;34m\u001b[0m\u001b[0m\n\u001b[1;32m    301\u001b[0m                     \u001b[0mgotit\u001b[0m \u001b[0;34m=\u001b[0m \u001b[0mwaiter\u001b[0m\u001b[0;34m.\u001b[0m\u001b[0macquire\u001b[0m\u001b[0;34m(\u001b[0m\u001b[0;32mFalse\u001b[0m\u001b[0;34m)\u001b[0m\u001b[0;34m\u001b[0m\u001b[0m\n",
      "\u001b[0;31mKeyboardInterrupt\u001b[0m: "
     ]
    }
   ],
   "source": [
    "sel = {'xi_rho' : slice(250,425),'eta_rho' : slice(350,700),\n",
    "           'xi_u' : slice(250,424),'eta_u' : slice(350,700),\n",
    "           'xi_v' : slice(250,425),'eta_v' : slice(350,699)}\n",
    "AB = tides.isel(sel)\n",
    "AB_nt = no_tides.isel(sel)\n",
    "rho_sel = {'xi_rho' : slice(250,425),'eta_rho' : slice(350,700)}\n",
    "AB_mask = ((grd.mask_rho==1) & (mask_shelf['Total Antarctica']==1)).isel(rho_sel)\n",
    "\n",
    "AB = AB.chunk(chunks)\n",
    "AB_nt = AB_nt.chunk(chunks)\n",
    "\n",
    "dyn = ((AB.ustar-AB_nt.ustar)*AB_nt.Tstar).where(AB_mask).mean('ocean_time').load()\n",
    "print('ping')\n",
    "therm = ((AB.Tstar-AB_nt.Tstar)*AB_nt.ustar).where(AB_mask).mean('ocean_time').load()\n",
    "print('ping')\n",
    "cov = ((AB.ustar-AB_nt.ustar)*(AB.Tstar-AB_nt.Tstar)).where(AB_mask).mean('ocean_time').load()\n",
    "print('ping')\n",
    "dMstar = ((AB.ustar*AB.Tstar).where(AB_mask).mean('ocean_time')-\n",
    "          (AB_nt.ustar*AB_nt.Tstar).where(AB_mask).mean('ocean_time')).load()\n",
    "print('ping')\n",
    "dsum = (therm+cov+dyn).load()"
   ]
  },
  {
   "cell_type": "code",
   "execution_count": null,
   "metadata": {},
   "outputs": [],
   "source": [
    "fig,axes = plt.subplots(ncols=3,nrows=2,figsize=(16,8))\n",
    "ax1,ax2,ax3,ax4,ax5,ax6 = axes.flatten()\n",
    "\n",
    "ax1 = plot_m(ax1,dMstar,'dMstar')\n",
    "ax2 = plot_m(ax2,dsum,'therm+dyn+cov')\n",
    "ax3 = plot_m(ax3,therm,'therm')\n",
    "ax4 = plot_m(ax4,dyn,'dyn')\n",
    "ax5 = plot_m(ax5,cov,'cov')\n",
    "\n",
    "for ax in axes.flatten():\n",
    "    ax.set_aspect('equal')\n",
    "    ax.axis('off')\n",
    "plt.tight_layout()\n",
    "plt.show()"
   ]
  },
  {
   "cell_type": "code",
   "execution_count": null,
   "metadata": {},
   "outputs": [],
   "source": []
  }
 ],
 "metadata": {
  "kernelspec": {
   "display_name": "Python 3",
   "language": "python",
   "name": "python3"
  },
  "language_info": {
   "codemirror_mode": {
    "name": "ipython",
    "version": 3
   },
   "file_extension": ".py",
   "mimetype": "text/x-python",
   "name": "python",
   "nbconvert_exporter": "python",
   "pygments_lexer": "ipython3",
   "version": "3.6.6"
  }
 },
 "nbformat": 4,
 "nbformat_minor": 2
}
