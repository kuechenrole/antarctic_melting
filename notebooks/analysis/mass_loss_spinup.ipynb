{
 "cells": [
  {
   "cell_type": "code",
   "execution_count": 1,
   "metadata": {},
   "outputs": [],
   "source": [
    "import os\n",
    "import sys\n",
    "import xarray as xr\n",
    "import dask\n",
    "import matplotlib.pyplot as plt\n",
    "import numpy as np\n",
    "import matplotlib\n",
    "\n",
    "proj_dir = os.path.join(os.pardir,os.pardir)\n",
    "data_dir = os.path.join(proj_dir,'data','analysis')"
   ]
  },
  {
   "cell_type": "code",
   "execution_count": 13,
   "metadata": {},
   "outputs": [
    {
     "data": {
      "text/html": [
       "<table style=\"border: 2px solid white;\">\n",
       "<tr>\n",
       "<td style=\"vertical-align: top; border: 0px solid white\">\n",
       "<h3>Client</h3>\n",
       "<ul>\n",
       "  <li><b>Scheduler: </b>tcp://127.0.0.1:49759\n",
       "  <li><b>Dashboard: </b><a href='http://127.0.0.1:8787/status' target='_blank'>http://127.0.0.1:8787/status</a>\n",
       "</ul>\n",
       "</td>\n",
       "<td style=\"vertical-align: top; border: 0px solid white\">\n",
       "<h3>Cluster</h3>\n",
       "<ul>\n",
       "  <li><b>Workers: </b>16</li>\n",
       "  <li><b>Cores: </b>16</li>\n",
       "  <li><b>Memory: </b>101.38 GB</li>\n",
       "</ul>\n",
       "</td>\n",
       "</tr>\n",
       "</table>"
      ],
      "text/plain": [
       "<Client: scheduler='tcp://127.0.0.1:49759' processes=16 cores=16>"
      ]
     },
     "execution_count": 13,
     "metadata": {},
     "output_type": "execute_result"
    }
   ],
   "source": [
    "from dask.distributed import Client\n",
    "C = Client()\n",
    "C"
   ]
  },
  {
   "cell_type": "code",
   "execution_count": 2,
   "metadata": {
    "scrolled": true
   },
   "outputs": [],
   "source": [
    "def total_bmb(avg,grd,vostock,time_slice):\n",
    "    \n",
    "    s2a = 3600*24*365.25\n",
    "    rhoi = 916\n",
    "\n",
    "    mask = (grd.mask_rho == 1 )& (grd.zice < 0)\n",
    "    mask[vostock[0],vostock[1]] = False\n",
    "\n",
    "    dA = (1/(grd.pm*grd.pn)).where(mask)\n",
    "    weights = dA/dA.sum()\n",
    "    \n",
    "    ismr = (avg.m.sel(ocean_time=time_slice).where(mask)*weights*s2a).sum(['xi_rho','eta_rho'])\n",
    "    bmb = (avg.m.sel(ocean_time=time_slice).where(mask)*dA*rhoi*(10**-12)*s2a).sum(['xi_rho','eta_rho'])\n",
    "    \n",
    "    return bmb,ismr,mask"
   ]
  },
  {
   "cell_type": "code",
   "execution_count": 7,
   "metadata": {
    "scrolled": true
   },
   "outputs": [],
   "source": [
    "grd10_path = os.path.join(data_dir,'raw','waom_frc','waom10_grd.nc')\n",
    "waom10_path = os.path.join(data_dir,'raw','waom10','ocean_avg_00??.nc')\n",
    "vostock10 = [np.arange(200,260),np.arange(400,480)]\n",
    "time = slice('2007','2015')\n",
    "\n",
    "avg10 = xr.open_mfdataset(waom10_path)\n",
    "grd10 = xr.open_dataset(grd10_path)\n",
    "\n",
    "bmb10,ismr10,mask10 = total_bmb(avg10,grd10,vostock10,time)"
   ]
  },
  {
   "cell_type": "code",
   "execution_count": 9,
   "metadata": {
    "scrolled": true
   },
   "outputs": [],
   "source": [
    "grd4_path = os.path.join(data_dir,'raw','waom_frc','waom4_grd.nc')\n",
    "waom4_path = os.path.join(data_dir,'raw','waom4','ocean_avg_00??.nc')\n",
    "vostock4 = [np.arange(500,650),np.arange(1000,1200)]\n",
    "time = slice('2007','2015')\n",
    "\n",
    "avg4 = xr.open_mfdataset(waom4_path)\n",
    "grd4 = xr.open_dataset(grd4_path)\n",
    "\n",
    "bmb4,ismr4,mask4 = total_bmb(avg4,grd4,vostock4,time)"
   ]
  },
  {
   "cell_type": "code",
   "execution_count": 14,
   "metadata": {
    "scrolled": true
   },
   "outputs": [],
   "source": [
    "grd2_path = os.path.join(data_dir,'raw','waom_frc','waom2_grd.nc')\n",
    "waom2_path = os.path.join(data_dir,'raw','waom2','ocean_avg_0[5,6]??.nc')\n",
    "vostock2 = [np.arange(1000,1300),np.arange(2000,2400)]\n",
    "time = slice('2014','2015')\n",
    "\n",
    "avg2 = xr.open_mfdataset(waom2_path)\n",
    "grd2 = xr.open_dataset(grd2_path)\n",
    "\n",
    "bmb2,ismr2,mask2 = total_bmb(avg2.resample(ocean_time='1MS').mean(),grd2,vostock2,time)"
   ]
  },
  {
   "cell_type": "code",
   "execution_count": 15,
   "metadata": {},
   "outputs": [
    {
     "data": {
      "text/plain": [
       "<xarray.DataArray (ocean_time: 14)>\n",
       "dask.array<shape=(14,), dtype=float64, chunksize=(1,)>\n",
       "Coordinates:\n",
       "  * ocean_time  (ocean_time) datetime64[ns] 2014-04-01 2014-05-01 2014-06-01 ..."
      ]
     },
     "execution_count": 15,
     "metadata": {},
     "output_type": "execute_result"
    }
   ],
   "source": [
    "ismr2"
   ]
  },
  {
   "cell_type": "raw",
   "metadata": {},
   "source": [
    "res = ismr2.resample(ocean_time='1MS').mean()"
   ]
  },
  {
   "cell_type": "code",
   "execution_count": 24,
   "metadata": {},
   "outputs": [
    {
     "data": {
      "text/plain": [
       "<xarray.DataArray 'ocean_time' (ocean_time: 13)>\n",
       "array(['2014-04-15T11:00:00.000000000', '2014-05-15T21:00:00.000000000',\n",
       "       '2014-06-15T07:00:00.000000000', '2014-07-15T17:00:00.000000000',\n",
       "       '2014-08-15T03:00:00.000000000', '2014-09-14T13:00:00.000000000',\n",
       "       '2014-10-14T23:00:00.000000000', '2014-11-14T09:00:00.000000000',\n",
       "       '2014-12-14T19:00:00.000000000', '2015-01-14T05:00:00.000000000',\n",
       "       '2015-02-13T15:00:00.000000000', '2015-03-16T01:00:00.000000000',\n",
       "       '2015-04-15T11:00:00.000000000'], dtype='datetime64[ns]')\n",
       "Coordinates:\n",
       "  * ocean_time  (ocean_time) datetime64[ns] 2014-04-15T11:00:00 ..."
      ]
     },
     "execution_count": 24,
     "metadata": {},
     "output_type": "execute_result"
    }
   ],
   "source": [
    "ismr2.ocean_time.values = ismr4.sel(ocean_time=slice('2014-4','2015-4')).ocean_time\n",
    "ismr2.ocean_time"
   ]
  },
  {
   "cell_type": "code",
   "execution_count": 40,
   "metadata": {},
   "outputs": [],
   "source": [
    "ismr2_hack = xr.concat((ismr4.sel(ocean_time=slice('2014-1','2014-3')),ismr2),'ocean_time').load()"
   ]
  },
  {
   "cell_type": "code",
   "execution_count": 44,
   "metadata": {},
   "outputs": [
    {
     "data": {
      "text/plain": [
       "<xarray.DataArray 'ocean_time' (ocean_time: 17)>\n",
       "array(['2014-01-14T05:00:00.000000000', '2014-02-13T15:00:00.000000000',\n",
       "       '2014-03-16T01:00:00.000000000', '2014-04-01T00:00:00.000000000',\n",
       "       '2014-05-01T00:00:00.000000000', '2014-06-01T00:00:00.000000000',\n",
       "       '2014-07-01T00:00:00.000000000', '2014-08-01T00:00:00.000000000',\n",
       "       '2014-09-01T00:00:00.000000000', '2014-10-01T00:00:00.000000000',\n",
       "       '2014-11-01T00:00:00.000000000', '2014-12-01T00:00:00.000000000',\n",
       "       '2015-01-01T00:00:00.000000000', '2015-02-01T00:00:00.000000000',\n",
       "       '2015-03-01T00:00:00.000000000', '2015-04-01T00:00:00.000000000',\n",
       "       '2015-05-01T00:00:00.000000000'], dtype='datetime64[ns]')\n",
       "Coordinates:\n",
       "  * ocean_time  (ocean_time) datetime64[ns] 2014-01-14T05:00:00 ..."
      ]
     },
     "execution_count": 44,
     "metadata": {},
     "output_type": "execute_result"
    }
   ],
   "source": [
    "ismr2_hack.ocean_time"
   ]
  },
  {
   "cell_type": "code",
   "execution_count": 46,
   "metadata": {},
   "outputs": [],
   "source": [
    "ismr2_hack.values[0:3] = ismr2_hack.values[12:15]"
   ]
  },
  {
   "cell_type": "code",
   "execution_count": 47,
   "metadata": {},
   "outputs": [],
   "source": [
    "ismr2_hack[0:3] += ismr2_hack[15] - ismr2_hack[3]"
   ]
  },
  {
   "cell_type": "code",
   "execution_count": 57,
   "metadata": {},
   "outputs": [],
   "source": [
    "ismr4 = ismr4.sel(ocean_time=slice('2007',ismr2.ocean_time[-1]))\n",
    "ismr10 = ismr10.sel(ocean_time=slice('2007',ismr2.ocean_time[-1]))"
   ]
  },
  {
   "cell_type": "code",
   "execution_count": 71,
   "metadata": {},
   "outputs": [
    {
     "data": {
      "image/png": "[encoded data removed]",
      "text/plain": [
       "<Figure size 1080x360 with 1 Axes>"
      ]
     },
     "metadata": {
      "needs_background": "light"
     },
     "output_type": "display_data"
    }
   ],
   "source": [
    "out_path = os.path.join(proj_dir,'reports','devel','figures','mass_loss_spinup.png')\n",
    "from matplotlib import rcParams\n",
    "rcParams.update({'figure.autolayout': True})\n",
    "rcParams.update({'font.size': 20})\n",
    "\n",
    "plt.close()\n",
    "fig,ax = plt.subplots(figsize=(15,5))\n",
    "ismr10.plot(label='10 km',ax=ax)\n",
    "ismr4.plot(label='4 km',ax=ax)\n",
    "ismr2_hack.plot(label='2 km',ax=ax)\n",
    "ax.set_ylim(0.6,2.2)\n",
    "#ax.set_xlim(0,10)\n",
    "#ax.set_title('Area average melt rate (m/yr)',fontsize=24)\n",
    "ax.grid()\n",
    "ax.set_ylabel('Averge melt rate [m/yr]')\n",
    "ax.set_xlabel('Years after initialization')\n",
    "ax.set_xticklabels(range(9))\n",
    "ax.legend(markerscale=1,loc='lower center', bbox_to_anchor=(0.25, 0),ncol=3)\n",
    "plt.savefig(out_path)\n",
    "plt.show()"
   ]
  },
  {
   "cell_type": "code",
   "execution_count": 51,
   "metadata": {},
   "outputs": [],
   "source": [
    "waom2_path = os.path.join(data_dir,'raw','waom2_fix','ocean_avg_06??.nc')\n",
    "avg2_2 = xr.open_mfdataset(waom2_path,chunks={'eta_rho':150,'xi_rho':150})"
   ]
  },
  {
   "cell_type": "code",
   "execution_count": 76,
   "metadata": {
    "scrolled": true
   },
   "outputs": [
    {
     "name": "stderr",
     "output_type": "stream",
     "text": [
      "/home/ubuntu/bigStick/anaconda3/envs/antarctic_melting/lib/python3.6/site-packages/ipykernel_launcher.py:1: FutureWarning: the `dim` argument to `concat` will be required in a future version of xarray; for now, setting it to the old default of 'concat_dim'\n",
      "  \"\"\"Entry point for launching an IPython kernel.\n",
      "/home/ubuntu/bigStick/anaconda3/envs/antarctic_melting/lib/python3.6/site-packages/dask/array/core.py:3468: PerformanceWarning: Increasing number of chunks by factor of 18\n",
      "  **atop_kwargs)\n",
      "/home/ubuntu/bigStick/anaconda3/envs/antarctic_melting/lib/python3.6/site-packages/dask/array/core.py:3468: PerformanceWarning: Increasing number of chunks by factor of 21\n",
      "  **atop_kwargs)\n"
     ]
    }
   ],
   "source": [
    "\n",
    "avg2_5d = xr.concat([avg2,avg2_2])\n",
    "bmb2,ismr2,mask2 = total_bmb(avg2_5d,grd2,vostock2,time)"
   ]
  },
  {
   "cell_type": "code",
   "execution_count": 81,
   "metadata": {
    "scrolled": true
   },
   "outputs": [
    {
     "data": {
      "text/plain": [
       "<xarray.DataArray 'ocean_time' (ocean_time: 75)>\n",
       "array(['2014-04-11T12:00:00.000000000', '2014-04-16T12:00:00.000000000',\n",
       "       '2014-04-21T12:00:00.000000000', '2014-04-26T12:00:00.000000000',\n",
       "       '2014-05-01T12:00:00.000000000', '2014-05-06T12:00:00.000000000',\n",
       "       '2014-05-11T12:00:00.000000000', '2014-05-16T12:00:00.000000000',\n",
       "       '2014-05-21T12:00:00.000000000', '2014-05-26T12:00:00.000000000',\n",
       "       '2014-05-31T12:00:00.000000000', '2014-06-05T12:00:00.000000000',\n",
       "       '2014-06-10T12:00:00.000000000', '2014-06-15T12:00:00.000000000',\n",
       "       '2014-06-20T12:00:00.000000000', '2014-06-25T12:00:00.000000000',\n",
       "       '2014-06-30T12:00:00.000000000', '2014-07-05T12:00:00.000000000',\n",
       "       '2014-07-10T12:00:00.000000000', '2014-07-15T12:00:00.000000000',\n",
       "       '2014-07-20T12:00:00.000000000', '2014-07-25T12:00:00.000000000',\n",
       "       '2014-07-30T12:00:00.000000000', '2014-08-04T12:00:00.000000000',\n",
       "       '2014-08-09T12:00:00.000000000', '2014-08-14T12:00:00.000000000',\n",
       "       '2014-08-19T12:00:00.000000000', '2014-08-24T12:00:00.000000000',\n",
       "       '2014-08-29T12:00:00.000000000', '2014-09-03T12:00:00.000000000',\n",
       "       '2014-09-08T12:00:00.000000000', '2014-09-13T12:00:00.000000000',\n",
       "       '2014-09-18T12:00:00.000000000', '2014-09-23T12:00:00.000000000',\n",
       "       '2014-09-28T12:00:00.000000000', '2014-10-03T12:00:00.000000000',\n",
       "       '2014-10-08T12:00:00.000000000', '2014-10-13T12:00:00.000000000',\n",
       "       '2014-10-18T12:00:00.000000000', '2014-10-23T12:00:00.000000000',\n",
       "       '2014-10-28T12:00:00.000000000', '2014-11-02T12:00:00.000000000',\n",
       "       '2014-11-07T12:00:00.000000000', '2014-11-12T12:00:00.000000000',\n",
       "       '2014-11-17T12:00:00.000000000', '2014-11-22T12:00:00.000000000',\n",
       "       '2014-11-27T12:00:00.000000000', '2014-12-02T12:00:00.000000000',\n",
       "       '2014-12-07T12:00:00.000000000', '2014-12-12T12:00:00.000000000',\n",
       "       '2014-12-17T12:00:00.000000000', '2014-12-22T12:00:00.000000000',\n",
       "       '2014-12-27T12:00:00.000000000', '2015-01-01T12:00:00.000000000',\n",
       "       '2015-01-06T12:00:00.000000000', '2015-01-11T12:00:00.000000000',\n",
       "       '2015-01-16T12:00:00.000000000', '2015-01-21T12:00:00.000000000',\n",
       "       '2015-01-26T12:00:00.000000000', '2015-01-31T12:00:00.000000000',\n",
       "       '2015-02-05T12:00:00.000000000', '2015-02-10T12:00:00.000000000',\n",
       "       '2015-02-15T12:00:00.000000000', '2015-02-20T12:00:00.000000000',\n",
       "       '2015-02-25T12:00:00.000000000', '2015-03-02T12:00:00.000000000',\n",
       "       '2015-03-07T12:00:00.000000000', '2015-03-12T12:00:00.000000000',\n",
       "       '2015-03-17T12:00:00.000000000', '2015-03-22T12:00:00.000000000',\n",
       "       '2015-03-27T12:00:00.000000000', '2015-04-01T12:00:00.000000000',\n",
       "       '2015-04-06T12:00:00.000000000', '2015-04-11T12:00:00.000000000',\n",
       "       '2015-04-16T12:00:00.000000000'], dtype='datetime64[ns]')\n",
       "Coordinates:\n",
       "  * ocean_time  (ocean_time) datetime64[ns] 2014-04-11T12:00:00 ...\n",
       "Attributes:\n",
       "    long_name:  averaged time since initialization\n",
       "    field:      time, scalar, series"
      ]
     },
     "execution_count": 81,
     "metadata": {},
     "output_type": "execute_result"
    }
   ],
   "source": [
    "ismr2.ocean_time\n"
   ]
  },
  {
   "cell_type": "code",
   "execution_count": null,
   "metadata": {},
   "outputs": [],
   "source": []
  },
  {
   "cell_type": "code",
   "execution_count": 70,
   "metadata": {},
   "outputs": [
    {
     "name": "stderr",
     "output_type": "stream",
     "text": [
      "distributed.comm.tcp - WARNING - Closing dangling stream in <TCP local=tcp://127.0.0.1:43064 remote=tcp://127.0.0.1:59503>\n",
      "distributed.comm.tcp - WARNING - Closing dangling stream in <TCP local=tcp://127.0.0.1:43065 remote=tcp://127.0.0.1:59503>\n",
      "distributed.comm.tcp - WARNING - Closing dangling stream in <TCP local=tcp://127.0.0.1:43066 remote=tcp://127.0.0.1:59503>\n"
     ]
    },
    {
     "data": {
      "text/plain": [
       "<xarray.DataArray 'ocean_time' (ocean_time: 13)>\n",
       "array(['2014-04-01T00:00:00.000000000', '2014-05-01T00:00:00.000000000',\n",
       "       '2014-06-01T00:00:00.000000000', '2014-07-01T00:00:00.000000000',\n",
       "       '2014-08-01T00:00:00.000000000', '2014-09-01T00:00:00.000000000',\n",
       "       '2014-10-01T00:00:00.000000000', '2014-11-01T00:00:00.000000000',\n",
       "       '2014-12-01T00:00:00.000000000', '2015-01-01T00:00:00.000000000',\n",
       "       '2015-02-01T00:00:00.000000000', '2015-03-01T00:00:00.000000000',\n",
       "       '2015-04-01T00:00:00.000000000'], dtype='datetime64[ns]')\n",
       "Coordinates:\n",
       "  * ocean_time  (ocean_time) datetime64[ns] 2014-04-01 2014-05-01 2014-06-01 ..."
      ]
     },
     "execution_count": 70,
     "metadata": {},
     "output_type": "execute_result"
    }
   ],
   "source": [
    "m2_1MS = avg2_5d.m.resample(ocean_time='1MS').mean()\n",
    "m2_1MS.ocean_time"
   ]
  },
  {
   "cell_type": "code",
   "execution_count": 75,
   "metadata": {},
   "outputs": [
    {
     "name": "stderr",
     "output_type": "stream",
     "text": [
      "distributed.comm.tcp - WARNING - Closing dangling stream in <TCP local=tcp://127.0.0.1:43102 remote=tcp://127.0.0.1:59503>\n",
      "/home/ubuntu/bigStick/anaconda3/envs/antarctic_melting/lib/python3.6/site-packages/distributed/worker.py:820: UserWarning: Large object of size 6.58 MB detected in task graph: \n",
      "  (\"('transpose-f0e80dd165818ec3db0e37b93550ad50', 0 ... 82e8>]), False)\n",
      "Consider scattering large objects ahead of time\n",
      "with client.scatter to reduce scheduler burden and \n",
      "keep data on workers\n",
      "\n",
      "    future = client.submit(func, big_data)    # bad\n",
      "\n",
      "    big_future = client.scatter(big_data)     # good\n",
      "    future = client.submit(func, big_future)  # good\n",
      "  % (format_bytes(len(b)), s))\n"
     ]
    },
    {
     "ename": "KeyboardInterrupt",
     "evalue": "",
     "output_type": "error",
     "traceback": [
      "\u001b[0;31m---------------------------------------------------------------------------\u001b[0m",
      "\u001b[0;31mKeyboardInterrupt\u001b[0m                         Traceback (most recent call last)",
      "\u001b[0;32m<ipython-input-75-04fc0d2186d5>\u001b[0m in \u001b[0;36m<module>\u001b[0;34m()\u001b[0m\n\u001b[1;32m      1\u001b[0m \u001b[0mm2_mth\u001b[0m \u001b[0;34m=\u001b[0m \u001b[0mavg2\u001b[0m\u001b[0;34m.\u001b[0m\u001b[0mm\u001b[0m\u001b[0;34m.\u001b[0m\u001b[0mgroupby\u001b[0m\u001b[0;34m(\u001b[0m\u001b[0;34m'ocean_time.month'\u001b[0m\u001b[0;34m)\u001b[0m\u001b[0;34m.\u001b[0m\u001b[0mmean\u001b[0m\u001b[0;34m(\u001b[0m\u001b[0;34m\"ocean_time\"\u001b[0m\u001b[0;34m)\u001b[0m\u001b[0;34m\u001b[0m\u001b[0m\n\u001b[1;32m      2\u001b[0m \u001b[0mout_path\u001b[0m \u001b[0;34m=\u001b[0m \u001b[0;34m'~/raijin/g/data2/gh9/oxr581/waom2/m2_mth.nc'\u001b[0m\u001b[0;34m\u001b[0m\u001b[0m\n\u001b[0;32m----> 3\u001b[0;31m \u001b[0mm2_mth\u001b[0m\u001b[0;34m.\u001b[0m\u001b[0mto_netcdf\u001b[0m\u001b[0;34m(\u001b[0m\u001b[0mout_path\u001b[0m\u001b[0;34m)\u001b[0m\u001b[0;34m\u001b[0m\u001b[0m\n\u001b[0m",
      "\u001b[0;32m~/bigStick/anaconda3/envs/antarctic_melting/lib/python3.6/site-packages/xarray/core/dataarray.py\u001b[0m in \u001b[0;36mto_netcdf\u001b[0;34m(self, *args, **kwargs)\u001b[0m\n\u001b[1;32m   1636\u001b[0m             \u001b[0mdataset\u001b[0m \u001b[0;34m=\u001b[0m \u001b[0mself\u001b[0m\u001b[0;34m.\u001b[0m\u001b[0mto_dataset\u001b[0m\u001b[0;34m(\u001b[0m\u001b[0;34m)\u001b[0m\u001b[0;34m\u001b[0m\u001b[0m\n\u001b[1;32m   1637\u001b[0m \u001b[0;34m\u001b[0m\u001b[0m\n\u001b[0;32m-> 1638\u001b[0;31m         \u001b[0;32mreturn\u001b[0m \u001b[0mdataset\u001b[0m\u001b[0;34m.\u001b[0m\u001b[0mto_netcdf\u001b[0m\u001b[0;34m(\u001b[0m\u001b[0;34m*\u001b[0m\u001b[0margs\u001b[0m\u001b[0;34m,\u001b[0m \u001b[0;34m**\u001b[0m\u001b[0mkwargs\u001b[0m\u001b[0;34m)\u001b[0m\u001b[0;34m\u001b[0m\u001b[0m\n\u001b[0m\u001b[1;32m   1639\u001b[0m \u001b[0;34m\u001b[0m\u001b[0m\n\u001b[1;32m   1640\u001b[0m     \u001b[0;32mdef\u001b[0m \u001b[0mto_dict\u001b[0m\u001b[0;34m(\u001b[0m\u001b[0mself\u001b[0m\u001b[0;34m)\u001b[0m\u001b[0;34m:\u001b[0m\u001b[0;34m\u001b[0m\u001b[0m\n",
      "\u001b[0;32m~/bigStick/anaconda3/envs/antarctic_melting/lib/python3.6/site-packages/xarray/core/dataset.py\u001b[0m in \u001b[0;36mto_netcdf\u001b[0;34m(self, path, mode, format, group, engine, encoding, unlimited_dims, compute)\u001b[0m\n\u001b[1;32m   1148\u001b[0m                          \u001b[0mengine\u001b[0m\u001b[0;34m=\u001b[0m\u001b[0mengine\u001b[0m\u001b[0;34m,\u001b[0m \u001b[0mencoding\u001b[0m\u001b[0;34m=\u001b[0m\u001b[0mencoding\u001b[0m\u001b[0;34m,\u001b[0m\u001b[0;34m\u001b[0m\u001b[0m\n\u001b[1;32m   1149\u001b[0m                          \u001b[0munlimited_dims\u001b[0m\u001b[0;34m=\u001b[0m\u001b[0munlimited_dims\u001b[0m\u001b[0;34m,\u001b[0m\u001b[0;34m\u001b[0m\u001b[0m\n\u001b[0;32m-> 1150\u001b[0;31m                          compute=compute)\n\u001b[0m\u001b[1;32m   1151\u001b[0m \u001b[0;34m\u001b[0m\u001b[0m\n\u001b[1;32m   1152\u001b[0m     def to_zarr(self, store=None, mode='w-', synchronizer=None, group=None,\n",
      "\u001b[0;32m~/bigStick/anaconda3/envs/antarctic_melting/lib/python3.6/site-packages/xarray/backends/api.py\u001b[0m in \u001b[0;36mto_netcdf\u001b[0;34m(dataset, path_or_file, mode, format, group, engine, writer, encoding, unlimited_dims, compute)\u001b[0m\n\u001b[1;32m    722\u001b[0m     \u001b[0;32mtry\u001b[0m\u001b[0;34m:\u001b[0m\u001b[0;34m\u001b[0m\u001b[0m\n\u001b[1;32m    723\u001b[0m         dataset.dump_to_store(store, sync=sync, encoding=encoding,\n\u001b[0;32m--> 724\u001b[0;31m                               unlimited_dims=unlimited_dims, compute=compute)\n\u001b[0m\u001b[1;32m    725\u001b[0m         \u001b[0;32mif\u001b[0m \u001b[0mpath_or_file\u001b[0m \u001b[0;32mis\u001b[0m \u001b[0;32mNone\u001b[0m\u001b[0;34m:\u001b[0m\u001b[0;34m\u001b[0m\u001b[0m\n\u001b[1;32m    726\u001b[0m             \u001b[0;32mreturn\u001b[0m \u001b[0mtarget\u001b[0m\u001b[0;34m.\u001b[0m\u001b[0mgetvalue\u001b[0m\u001b[0;34m(\u001b[0m\u001b[0;34m)\u001b[0m\u001b[0;34m\u001b[0m\u001b[0m\n",
      "\u001b[0;32m~/bigStick/anaconda3/envs/antarctic_melting/lib/python3.6/site-packages/xarray/core/dataset.py\u001b[0m in \u001b[0;36mdump_to_store\u001b[0;34m(self, store, encoder, sync, encoding, unlimited_dims, compute)\u001b[0m\n\u001b[1;32m   1075\u001b[0m                     unlimited_dims=unlimited_dims)\n\u001b[1;32m   1076\u001b[0m         \u001b[0;32mif\u001b[0m \u001b[0msync\u001b[0m\u001b[0;34m:\u001b[0m\u001b[0;34m\u001b[0m\u001b[0m\n\u001b[0;32m-> 1077\u001b[0;31m             \u001b[0mstore\u001b[0m\u001b[0;34m.\u001b[0m\u001b[0msync\u001b[0m\u001b[0;34m(\u001b[0m\u001b[0mcompute\u001b[0m\u001b[0;34m=\u001b[0m\u001b[0mcompute\u001b[0m\u001b[0;34m)\u001b[0m\u001b[0;34m\u001b[0m\u001b[0m\n\u001b[0m\u001b[1;32m   1078\u001b[0m \u001b[0;34m\u001b[0m\u001b[0m\n\u001b[1;32m   1079\u001b[0m     def to_netcdf(self, path=None, mode='w', format=None, group=None,\n",
      "\u001b[0;32m~/bigStick/anaconda3/envs/antarctic_melting/lib/python3.6/site-packages/xarray/backends/netCDF4_.py\u001b[0m in \u001b[0;36msync\u001b[0;34m(self, compute)\u001b[0m\n\u001b[1;32m    465\u001b[0m     \u001b[0;32mdef\u001b[0m \u001b[0msync\u001b[0m\u001b[0;34m(\u001b[0m\u001b[0mself\u001b[0m\u001b[0;34m,\u001b[0m \u001b[0mcompute\u001b[0m\u001b[0;34m=\u001b[0m\u001b[0;32mTrue\u001b[0m\u001b[0;34m)\u001b[0m\u001b[0;34m:\u001b[0m\u001b[0;34m\u001b[0m\u001b[0m\n\u001b[1;32m    466\u001b[0m         \u001b[0;32mwith\u001b[0m \u001b[0mself\u001b[0m\u001b[0;34m.\u001b[0m\u001b[0mensure_open\u001b[0m\u001b[0;34m(\u001b[0m\u001b[0mautoclose\u001b[0m\u001b[0;34m=\u001b[0m\u001b[0;32mTrue\u001b[0m\u001b[0;34m)\u001b[0m\u001b[0;34m:\u001b[0m\u001b[0;34m\u001b[0m\u001b[0m\n\u001b[0;32m--> 467\u001b[0;31m             \u001b[0msuper\u001b[0m\u001b[0;34m(\u001b[0m\u001b[0mNetCDF4DataStore\u001b[0m\u001b[0;34m,\u001b[0m \u001b[0mself\u001b[0m\u001b[0;34m)\u001b[0m\u001b[0;34m.\u001b[0m\u001b[0msync\u001b[0m\u001b[0;34m(\u001b[0m\u001b[0mcompute\u001b[0m\u001b[0;34m=\u001b[0m\u001b[0mcompute\u001b[0m\u001b[0;34m)\u001b[0m\u001b[0;34m\u001b[0m\u001b[0m\n\u001b[0m\u001b[1;32m    468\u001b[0m             \u001b[0mself\u001b[0m\u001b[0;34m.\u001b[0m\u001b[0mds\u001b[0m\u001b[0;34m.\u001b[0m\u001b[0msync\u001b[0m\u001b[0;34m(\u001b[0m\u001b[0;34m)\u001b[0m\u001b[0;34m\u001b[0m\u001b[0m\n\u001b[1;32m    469\u001b[0m \u001b[0;34m\u001b[0m\u001b[0m\n",
      "\u001b[0;32m~/bigStick/anaconda3/envs/antarctic_melting/lib/python3.6/site-packages/xarray/backends/common.py\u001b[0m in \u001b[0;36msync\u001b[0;34m(self, compute)\u001b[0m\n\u001b[1;32m    334\u001b[0m             \u001b[0;31m# datastore will be reopened during write\u001b[0m\u001b[0;34m\u001b[0m\u001b[0;34m\u001b[0m\u001b[0m\n\u001b[1;32m    335\u001b[0m             \u001b[0mself\u001b[0m\u001b[0;34m.\u001b[0m\u001b[0mclose\u001b[0m\u001b[0;34m(\u001b[0m\u001b[0;34m)\u001b[0m\u001b[0;34m\u001b[0m\u001b[0m\n\u001b[0;32m--> 336\u001b[0;31m         \u001b[0mself\u001b[0m\u001b[0;34m.\u001b[0m\u001b[0mdelayed_store\u001b[0m \u001b[0;34m=\u001b[0m \u001b[0mself\u001b[0m\u001b[0;34m.\u001b[0m\u001b[0mwriter\u001b[0m\u001b[0;34m.\u001b[0m\u001b[0msync\u001b[0m\u001b[0;34m(\u001b[0m\u001b[0mcompute\u001b[0m\u001b[0;34m=\u001b[0m\u001b[0mcompute\u001b[0m\u001b[0;34m)\u001b[0m\u001b[0;34m\u001b[0m\u001b[0m\n\u001b[0m\u001b[1;32m    337\u001b[0m \u001b[0;34m\u001b[0m\u001b[0m\n\u001b[1;32m    338\u001b[0m     \u001b[0;32mdef\u001b[0m \u001b[0mstore_dataset\u001b[0m\u001b[0;34m(\u001b[0m\u001b[0mself\u001b[0m\u001b[0;34m,\u001b[0m \u001b[0mdataset\u001b[0m\u001b[0;34m)\u001b[0m\u001b[0;34m:\u001b[0m\u001b[0;34m\u001b[0m\u001b[0m\n",
      "\u001b[0;32m~/bigStick/anaconda3/envs/antarctic_melting/lib/python3.6/site-packages/xarray/backends/common.py\u001b[0m in \u001b[0;36msync\u001b[0;34m(self, compute)\u001b[0m\n\u001b[1;32m    277\u001b[0m             delayed_store = da.store(self.sources, self.targets,\n\u001b[1;32m    278\u001b[0m                                      \u001b[0mlock\u001b[0m\u001b[0;34m=\u001b[0m\u001b[0mself\u001b[0m\u001b[0;34m.\u001b[0m\u001b[0mlock\u001b[0m\u001b[0;34m,\u001b[0m \u001b[0mcompute\u001b[0m\u001b[0;34m=\u001b[0m\u001b[0mcompute\u001b[0m\u001b[0;34m,\u001b[0m\u001b[0;34m\u001b[0m\u001b[0m\n\u001b[0;32m--> 279\u001b[0;31m                                      flush=True)\n\u001b[0m\u001b[1;32m    280\u001b[0m             \u001b[0mself\u001b[0m\u001b[0;34m.\u001b[0m\u001b[0msources\u001b[0m \u001b[0;34m=\u001b[0m \u001b[0;34m[\u001b[0m\u001b[0;34m]\u001b[0m\u001b[0;34m\u001b[0m\u001b[0m\n\u001b[1;32m    281\u001b[0m             \u001b[0mself\u001b[0m\u001b[0;34m.\u001b[0m\u001b[0mtargets\u001b[0m \u001b[0;34m=\u001b[0m \u001b[0;34m[\u001b[0m\u001b[0;34m]\u001b[0m\u001b[0;34m\u001b[0m\u001b[0m\n",
      "\u001b[0;32m~/bigStick/anaconda3/envs/antarctic_melting/lib/python3.6/site-packages/dask/array/core.py\u001b[0m in \u001b[0;36mstore\u001b[0;34m(sources, targets, lock, regions, compute, return_stored, **kwargs)\u001b[0m\n\u001b[1;32m   1002\u001b[0m \u001b[0;34m\u001b[0m\u001b[0m\n\u001b[1;32m   1003\u001b[0m         \u001b[0;32mif\u001b[0m \u001b[0mcompute\u001b[0m\u001b[0;34m:\u001b[0m\u001b[0;34m\u001b[0m\u001b[0m\n\u001b[0;32m-> 1004\u001b[0;31m             \u001b[0mresult\u001b[0m\u001b[0;34m.\u001b[0m\u001b[0mcompute\u001b[0m\u001b[0;34m(\u001b[0m\u001b[0;34m**\u001b[0m\u001b[0mkwargs\u001b[0m\u001b[0;34m)\u001b[0m\u001b[0;34m\u001b[0m\u001b[0m\n\u001b[0m\u001b[1;32m   1005\u001b[0m             \u001b[0;32mreturn\u001b[0m \u001b[0;32mNone\u001b[0m\u001b[0;34m\u001b[0m\u001b[0m\n\u001b[1;32m   1006\u001b[0m         \u001b[0;32melse\u001b[0m\u001b[0;34m:\u001b[0m\u001b[0;34m\u001b[0m\u001b[0m\n",
      "\u001b[0;32m~/bigStick/anaconda3/envs/antarctic_melting/lib/python3.6/site-packages/dask/base.py\u001b[0m in \u001b[0;36mcompute\u001b[0;34m(self, **kwargs)\u001b[0m\n\u001b[1;32m    154\u001b[0m         \u001b[0mdask\u001b[0m\u001b[0;34m.\u001b[0m\u001b[0mbase\u001b[0m\u001b[0;34m.\u001b[0m\u001b[0mcompute\u001b[0m\u001b[0;34m\u001b[0m\u001b[0m\n\u001b[1;32m    155\u001b[0m         \"\"\"\n\u001b[0;32m--> 156\u001b[0;31m         \u001b[0;34m(\u001b[0m\u001b[0mresult\u001b[0m\u001b[0;34m,\u001b[0m\u001b[0;34m)\u001b[0m \u001b[0;34m=\u001b[0m \u001b[0mcompute\u001b[0m\u001b[0;34m(\u001b[0m\u001b[0mself\u001b[0m\u001b[0;34m,\u001b[0m \u001b[0mtraverse\u001b[0m\u001b[0;34m=\u001b[0m\u001b[0;32mFalse\u001b[0m\u001b[0;34m,\u001b[0m \u001b[0;34m**\u001b[0m\u001b[0mkwargs\u001b[0m\u001b[0;34m)\u001b[0m\u001b[0;34m\u001b[0m\u001b[0m\n\u001b[0m\u001b[1;32m    157\u001b[0m         \u001b[0;32mreturn\u001b[0m \u001b[0mresult\u001b[0m\u001b[0;34m\u001b[0m\u001b[0m\n\u001b[1;32m    158\u001b[0m \u001b[0;34m\u001b[0m\u001b[0m\n",
      "\u001b[0;32m~/bigStick/anaconda3/envs/antarctic_melting/lib/python3.6/site-packages/dask/base.py\u001b[0m in \u001b[0;36mcompute\u001b[0;34m(*args, **kwargs)\u001b[0m\n\u001b[1;32m    400\u001b[0m     \u001b[0mkeys\u001b[0m \u001b[0;34m=\u001b[0m \u001b[0;34m[\u001b[0m\u001b[0mx\u001b[0m\u001b[0;34m.\u001b[0m\u001b[0m__dask_keys__\u001b[0m\u001b[0;34m(\u001b[0m\u001b[0;34m)\u001b[0m \u001b[0;32mfor\u001b[0m \u001b[0mx\u001b[0m \u001b[0;32min\u001b[0m \u001b[0mcollections\u001b[0m\u001b[0;34m]\u001b[0m\u001b[0;34m\u001b[0m\u001b[0m\n\u001b[1;32m    401\u001b[0m     \u001b[0mpostcomputes\u001b[0m \u001b[0;34m=\u001b[0m \u001b[0;34m[\u001b[0m\u001b[0mx\u001b[0m\u001b[0;34m.\u001b[0m\u001b[0m__dask_postcompute__\u001b[0m\u001b[0;34m(\u001b[0m\u001b[0;34m)\u001b[0m \u001b[0;32mfor\u001b[0m \u001b[0mx\u001b[0m \u001b[0;32min\u001b[0m \u001b[0mcollections\u001b[0m\u001b[0;34m]\u001b[0m\u001b[0;34m\u001b[0m\u001b[0m\n\u001b[0;32m--> 402\u001b[0;31m     \u001b[0mresults\u001b[0m \u001b[0;34m=\u001b[0m \u001b[0mschedule\u001b[0m\u001b[0;34m(\u001b[0m\u001b[0mdsk\u001b[0m\u001b[0;34m,\u001b[0m \u001b[0mkeys\u001b[0m\u001b[0;34m,\u001b[0m \u001b[0;34m**\u001b[0m\u001b[0mkwargs\u001b[0m\u001b[0;34m)\u001b[0m\u001b[0;34m\u001b[0m\u001b[0m\n\u001b[0m\u001b[1;32m    403\u001b[0m     \u001b[0;32mreturn\u001b[0m \u001b[0mrepack\u001b[0m\u001b[0;34m(\u001b[0m\u001b[0;34m[\u001b[0m\u001b[0mf\u001b[0m\u001b[0;34m(\u001b[0m\u001b[0mr\u001b[0m\u001b[0;34m,\u001b[0m \u001b[0;34m*\u001b[0m\u001b[0ma\u001b[0m\u001b[0;34m)\u001b[0m \u001b[0;32mfor\u001b[0m \u001b[0mr\u001b[0m\u001b[0;34m,\u001b[0m \u001b[0;34m(\u001b[0m\u001b[0mf\u001b[0m\u001b[0;34m,\u001b[0m \u001b[0ma\u001b[0m\u001b[0;34m)\u001b[0m \u001b[0;32min\u001b[0m \u001b[0mzip\u001b[0m\u001b[0;34m(\u001b[0m\u001b[0mresults\u001b[0m\u001b[0;34m,\u001b[0m \u001b[0mpostcomputes\u001b[0m\u001b[0;34m)\u001b[0m\u001b[0;34m]\u001b[0m\u001b[0;34m)\u001b[0m\u001b[0;34m\u001b[0m\u001b[0m\n\u001b[1;32m    404\u001b[0m \u001b[0;34m\u001b[0m\u001b[0m\n",
      "\u001b[0;32m~/bigStick/anaconda3/envs/antarctic_melting/lib/python3.6/site-packages/distributed/client.py\u001b[0m in \u001b[0;36mget\u001b[0;34m(self, dsk, keys, restrictions, loose_restrictions, resources, sync, asynchronous, direct, retries, priority, fifo_timeout, **kwargs)\u001b[0m\n\u001b[1;32m   2145\u001b[0m                                          \u001b[0mfifo_timeout\u001b[0m\u001b[0;34m=\u001b[0m\u001b[0mfifo_timeout\u001b[0m\u001b[0;34m,\u001b[0m\u001b[0;34m\u001b[0m\u001b[0m\n\u001b[1;32m   2146\u001b[0m                                          \u001b[0mretries\u001b[0m\u001b[0;34m=\u001b[0m\u001b[0mretries\u001b[0m\u001b[0;34m,\u001b[0m\u001b[0;34m\u001b[0m\u001b[0m\n\u001b[0;32m-> 2147\u001b[0;31m                                          \u001b[0muser_priority\u001b[0m\u001b[0;34m=\u001b[0m\u001b[0mpriority\u001b[0m\u001b[0;34m,\u001b[0m\u001b[0;34m\u001b[0m\u001b[0m\n\u001b[0m\u001b[1;32m   2148\u001b[0m                                          )\n\u001b[1;32m   2149\u001b[0m         \u001b[0mpacked\u001b[0m \u001b[0;34m=\u001b[0m \u001b[0mpack_data\u001b[0m\u001b[0;34m(\u001b[0m\u001b[0mkeys\u001b[0m\u001b[0;34m,\u001b[0m \u001b[0mfutures\u001b[0m\u001b[0;34m)\u001b[0m\u001b[0;34m\u001b[0m\u001b[0m\n",
      "\u001b[0;32m~/bigStick/anaconda3/envs/antarctic_melting/lib/python3.6/site-packages/distributed/client.py\u001b[0m in \u001b[0;36m_graph_to_futures\u001b[0;34m(self, dsk, keys, restrictions, loose_restrictions, priority, user_priority, resources, retries, fifo_timeout)\u001b[0m\n\u001b[1;32m   2094\u001b[0m \u001b[0;34m\u001b[0m\u001b[0m\n\u001b[1;32m   2095\u001b[0m             self._send_to_scheduler({'op': 'update-graph',\n\u001b[0;32m-> 2096\u001b[0;31m                                      \u001b[0;34m'tasks'\u001b[0m\u001b[0;34m:\u001b[0m \u001b[0mvalmap\u001b[0m\u001b[0;34m(\u001b[0m\u001b[0mdumps_task\u001b[0m\u001b[0;34m,\u001b[0m \u001b[0mdsk3\u001b[0m\u001b[0;34m)\u001b[0m\u001b[0;34m,\u001b[0m\u001b[0;34m\u001b[0m\u001b[0m\n\u001b[0m\u001b[1;32m   2097\u001b[0m                                      \u001b[0;34m'dependencies'\u001b[0m\u001b[0;34m:\u001b[0m \u001b[0mdependencies\u001b[0m\u001b[0;34m,\u001b[0m\u001b[0;34m\u001b[0m\u001b[0m\n\u001b[1;32m   2098\u001b[0m                                      \u001b[0;34m'keys'\u001b[0m\u001b[0;34m:\u001b[0m \u001b[0mlist\u001b[0m\u001b[0;34m(\u001b[0m\u001b[0mflatkeys\u001b[0m\u001b[0;34m)\u001b[0m\u001b[0;34m,\u001b[0m\u001b[0;34m\u001b[0m\u001b[0m\n",
      "\u001b[0;32m~/bigStick/anaconda3/envs/antarctic_melting/lib/python3.6/site-packages/cytoolz/dicttoolz.pyx\u001b[0m in \u001b[0;36mcytoolz.dicttoolz.valmap\u001b[0;34m()\u001b[0m\n",
      "\u001b[0;32m~/bigStick/anaconda3/envs/antarctic_melting/lib/python3.6/site-packages/cytoolz/dicttoolz.pyx\u001b[0m in \u001b[0;36mcytoolz.dicttoolz.valmap\u001b[0;34m()\u001b[0m\n",
      "\u001b[0;32m~/bigStick/anaconda3/envs/antarctic_melting/lib/python3.6/site-packages/distributed/worker.py\u001b[0m in \u001b[0;36mdumps_task\u001b[0;34m(task)\u001b[0m\n\u001b[1;32m    795\u001b[0m         \u001b[0;32melif\u001b[0m \u001b[0;32mnot\u001b[0m \u001b[0many\u001b[0m\u001b[0;34m(\u001b[0m\u001b[0mmap\u001b[0m\u001b[0;34m(\u001b[0m\u001b[0m_maybe_complex\u001b[0m\u001b[0;34m,\u001b[0m \u001b[0mtask\u001b[0m\u001b[0;34m[\u001b[0m\u001b[0;36m1\u001b[0m\u001b[0;34m:\u001b[0m\u001b[0;34m]\u001b[0m\u001b[0;34m)\u001b[0m\u001b[0;34m)\u001b[0m\u001b[0;34m:\u001b[0m\u001b[0;34m\u001b[0m\u001b[0m\n\u001b[1;32m    796\u001b[0m             return {'function': dumps_function(task[0]),\n\u001b[0;32m--> 797\u001b[0;31m                     'args': warn_dumps(task[1:])}\n\u001b[0m\u001b[1;32m    798\u001b[0m     \u001b[0;32mreturn\u001b[0m \u001b[0mto_serialize\u001b[0m\u001b[0;34m(\u001b[0m\u001b[0mtask\u001b[0m\u001b[0;34m)\u001b[0m\u001b[0;34m\u001b[0m\u001b[0m\n\u001b[1;32m    799\u001b[0m \u001b[0;34m\u001b[0m\u001b[0m\n",
      "\u001b[0;32m~/bigStick/anaconda3/envs/antarctic_melting/lib/python3.6/site-packages/distributed/worker.py\u001b[0m in \u001b[0;36mwarn_dumps\u001b[0;34m(obj, dumps, limit)\u001b[0m\n\u001b[1;32m    804\u001b[0m \u001b[0;32mdef\u001b[0m \u001b[0mwarn_dumps\u001b[0m\u001b[0;34m(\u001b[0m\u001b[0mobj\u001b[0m\u001b[0;34m,\u001b[0m \u001b[0mdumps\u001b[0m\u001b[0;34m=\u001b[0m\u001b[0mpickle\u001b[0m\u001b[0;34m.\u001b[0m\u001b[0mdumps\u001b[0m\u001b[0;34m,\u001b[0m \u001b[0mlimit\u001b[0m\u001b[0;34m=\u001b[0m\u001b[0;36m1e6\u001b[0m\u001b[0;34m)\u001b[0m\u001b[0;34m:\u001b[0m\u001b[0;34m\u001b[0m\u001b[0m\n\u001b[1;32m    805\u001b[0m     \u001b[0;34m\"\"\" Dump an object to bytes, warn if those bytes are large \"\"\"\u001b[0m\u001b[0;34m\u001b[0m\u001b[0m\n\u001b[0;32m--> 806\u001b[0;31m     \u001b[0mb\u001b[0m \u001b[0;34m=\u001b[0m \u001b[0mdumps\u001b[0m\u001b[0;34m(\u001b[0m\u001b[0mobj\u001b[0m\u001b[0;34m)\u001b[0m\u001b[0;34m\u001b[0m\u001b[0m\n\u001b[0m\u001b[1;32m    807\u001b[0m     \u001b[0;32mif\u001b[0m \u001b[0;32mnot\u001b[0m \u001b[0m_warn_dumps_warned\u001b[0m\u001b[0;34m[\u001b[0m\u001b[0;36m0\u001b[0m\u001b[0;34m]\u001b[0m \u001b[0;32mand\u001b[0m \u001b[0mlen\u001b[0m\u001b[0;34m(\u001b[0m\u001b[0mb\u001b[0m\u001b[0;34m)\u001b[0m \u001b[0;34m>\u001b[0m \u001b[0mlimit\u001b[0m\u001b[0;34m:\u001b[0m\u001b[0;34m\u001b[0m\u001b[0m\n\u001b[1;32m    808\u001b[0m         \u001b[0m_warn_dumps_warned\u001b[0m\u001b[0;34m[\u001b[0m\u001b[0;36m0\u001b[0m\u001b[0;34m]\u001b[0m \u001b[0;34m=\u001b[0m \u001b[0;32mTrue\u001b[0m\u001b[0;34m\u001b[0m\u001b[0m\n",
      "\u001b[0;32m~/bigStick/anaconda3/envs/antarctic_melting/lib/python3.6/site-packages/distributed/protocol/pickle.py\u001b[0m in \u001b[0;36mdumps\u001b[0;34m(x)\u001b[0m\n\u001b[1;32m     36\u001b[0m     \"\"\"\n\u001b[1;32m     37\u001b[0m     \u001b[0;32mtry\u001b[0m\u001b[0;34m:\u001b[0m\u001b[0;34m\u001b[0m\u001b[0m\n\u001b[0;32m---> 38\u001b[0;31m         \u001b[0mresult\u001b[0m \u001b[0;34m=\u001b[0m \u001b[0mpickle\u001b[0m\u001b[0;34m.\u001b[0m\u001b[0mdumps\u001b[0m\u001b[0;34m(\u001b[0m\u001b[0mx\u001b[0m\u001b[0;34m,\u001b[0m \u001b[0mprotocol\u001b[0m\u001b[0;34m=\u001b[0m\u001b[0mpickle\u001b[0m\u001b[0;34m.\u001b[0m\u001b[0mHIGHEST_PROTOCOL\u001b[0m\u001b[0;34m)\u001b[0m\u001b[0;34m\u001b[0m\u001b[0m\n\u001b[0m\u001b[1;32m     39\u001b[0m         \u001b[0;32mif\u001b[0m \u001b[0mlen\u001b[0m\u001b[0;34m(\u001b[0m\u001b[0mresult\u001b[0m\u001b[0;34m)\u001b[0m \u001b[0;34m<\u001b[0m \u001b[0;36m1000\u001b[0m\u001b[0;34m:\u001b[0m\u001b[0;34m\u001b[0m\u001b[0m\n\u001b[1;32m     40\u001b[0m             \u001b[0;32mif\u001b[0m \u001b[0;34mb'__main__'\u001b[0m \u001b[0;32min\u001b[0m \u001b[0mresult\u001b[0m\u001b[0;34m:\u001b[0m\u001b[0;34m\u001b[0m\u001b[0m\n",
      "\u001b[0;32m~/bigStick/anaconda3/envs/antarctic_melting/lib/python3.6/site-packages/toolz/functoolz.py\u001b[0m in \u001b[0;36m__getstate__\u001b[0;34m(self)\u001b[0m\n\u001b[1;32m    469\u001b[0m         \u001b[0;32mreturn\u001b[0m \u001b[0mret\u001b[0m\u001b[0;34m\u001b[0m\u001b[0m\n\u001b[1;32m    470\u001b[0m \u001b[0;34m\u001b[0m\u001b[0m\n\u001b[0;32m--> 471\u001b[0;31m     \u001b[0;32mdef\u001b[0m \u001b[0m__getstate__\u001b[0m\u001b[0;34m(\u001b[0m\u001b[0mself\u001b[0m\u001b[0;34m)\u001b[0m\u001b[0;34m:\u001b[0m\u001b[0;34m\u001b[0m\u001b[0m\n\u001b[0m\u001b[1;32m    472\u001b[0m         \u001b[0;32mreturn\u001b[0m \u001b[0mself\u001b[0m\u001b[0;34m.\u001b[0m\u001b[0mfirst\u001b[0m\u001b[0;34m,\u001b[0m \u001b[0mself\u001b[0m\u001b[0;34m.\u001b[0m\u001b[0mfuncs\u001b[0m\u001b[0;34m\u001b[0m\u001b[0m\n\u001b[1;32m    473\u001b[0m \u001b[0;34m\u001b[0m\u001b[0m\n",
      "\u001b[0;31mKeyboardInterrupt\u001b[0m: "
     ]
    },
    {
     "name": "stderr",
     "output_type": "stream",
     "text": [
      "distributed.nanny - WARNING - Restarting worker\n",
      "distributed.nanny - WARNING - Restarting worker\n",
      "distributed.nanny - WARNING - Restarting worker\n",
      "distributed.nanny - WARNING - Restarting worker\n",
      "distributed.nanny - WARNING - Restarting worker\n",
      "distributed.nanny - WARNING - Restarting worker\n",
      "distributed.nanny - WARNING - Restarting worker\n",
      "distributed.nanny - WARNING - Restarting worker\n",
      "distributed.nanny - WARNING - Restarting worker\n",
      "distributed.nanny - WARNING - Restarting worker\n",
      "distributed.nanny - WARNING - Restarting worker\n",
      "distributed.nanny - WARNING - Restarting worker\n",
      "distributed.nanny - WARNING - Restarting worker\n",
      "distributed.nanny - WARNING - Restarting worker\n",
      "distributed.nanny - WARNING - Worker exceeded 95% memory budget.  Restarting\n",
      "distributed.nanny - WARNING - Worker exceeded 95% memory budget.  Restarting\n",
      "distributed.nanny - WARNING - Worker exceeded 95% memory budget.  Restarting\n",
      "distributed.nanny - WARNING - Worker process 1234 was killed by unknown signal\n",
      "distributed.nanny - WARNING - Worker exceeded 95% memory budget.  Restarting\n",
      "distributed.nanny - WARNING - Restarting worker\n",
      "distributed.nanny - WARNING - Worker process 1237 was killed by unknown signal\n",
      "distributed.nanny - WARNING - Worker process 1239 was killed by unknown signal\n",
      "distributed.nanny - WARNING - Worker exceeded 95% memory budget.  Restarting\n",
      "distributed.nanny - WARNING - Restarting worker\n",
      "distributed.nanny - WARNING - Restarting worker\n",
      "distributed.nanny - WARNING - Worker process 1242 was killed by unknown signal\n",
      "distributed.nanny - WARNING - Worker exceeded 95% memory budget.  Restarting\n",
      "distributed.nanny - WARNING - Restarting worker\n",
      "distributed.nanny - WARNING - Worker process 1248 was killed by unknown signal\n",
      "distributed.nanny - WARNING - Worker exceeded 95% memory budget.  Restarting\n",
      "distributed.nanny - WARNING - Worker process 1251 was killed by unknown signal\n",
      "distributed.nanny - WARNING - Restarting worker\n",
      "distributed.nanny - WARNING - Restarting worker\n",
      "distributed.nanny - WARNING - Worker exceeded 95% memory budget.  Restarting\n",
      "distributed.nanny - WARNING - Worker process 1256 was killed by unknown signal\n",
      "distributed.nanny - WARNING - Restarting worker\n",
      "distributed.nanny - WARNING - Worker exceeded 95% memory budget.  Restarting\n",
      "distributed.nanny - WARNING - Worker process 1260 was killed by unknown signal\n",
      "distributed.nanny - WARNING - Restarting worker\n"
     ]
    }
   ],
   "source": [
    "m2_mth = avg2.m.groupby('ocean_time.month').mean(\"ocean_time\")\n",
    "out_path = '~/raijin/g/data2/gh9/oxr581/waom2/m2_mth.nc'\n",
    "m2_mth.to_netcdf(out_path)"
   ]
  },
  {
   "cell_type": "code",
   "execution_count": 13,
   "metadata": {},
   "outputs": [
    {
     "data": {
      "text/plain": [
       "<xarray.Dataset>\n",
       "Dimensions:     (ocean_time: 9)\n",
       "Coordinates:\n",
       "  * ocean_time  (ocean_time) int64 4 5 6 7 8 9 10 11 12\n",
       "Data variables:\n",
       "    ismr2       (ocean_time) float64 dask.array<shape=(9,), chunksize=(1,)>"
      ]
     },
     "execution_count": 13,
     "metadata": {},
     "output_type": "execute_result"
    }
   ],
   "source": [
    "ismr2_mnt = ismr2.sel(ocean_time='2014').groupby('ocean_time.month').mean(\"ocean_time\")\n",
    "ismr2_mnt = ismr2_mnt.to_dataset(name='ismr2').rename({'month':'ocean_time'})\n",
    "ismr2_mnt"
   ]
  },
  {
   "cell_type": "code",
   "execution_count": 14,
   "metadata": {},
   "outputs": [],
   "source": [
    "ismr2_mnt['ocean_time'] = ismr4.ocean_time.sel(ocean_time=slice('2014-4','2014-12'))\n",
    "ismr2_mnt = ismr2_mnt.ismr2"
   ]
  },
  {
   "cell_type": "code",
   "execution_count": null,
   "metadata": {},
   "outputs": [],
   "source": []
  }
 ],
 "metadata": {
  "kernelspec": {
   "display_name": "Python 3",
   "language": "python",
   "name": "python3"
  },
  "language_info": {
   "codemirror_mode": {
    "name": "ipython",
    "version": 3
   },
   "file_extension": ".py",
   "mimetype": "text/x-python",
   "name": "python",
   "nbconvert_exporter": "python",
   "pygments_lexer": "ipython3",
   "version": "3.6.6"
  }
 },
 "nbformat": 4,
 "nbformat_minor": 2
}
