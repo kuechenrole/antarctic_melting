{
 "cells": [
  {
   "cell_type": "code",
   "execution_count": 1,
   "metadata": {},
   "outputs": [],
   "source": [
    "run ='waom2'\n",
    "\n",
    "from netCDF4 import Dataset\n",
    "from numpy import *\n",
    "import os\n",
    "import sys\n",
    "from scipy.interpolate import NearestNDInterpolator, RegularGridInterpolator\n",
    "import scipy.io as sio\n",
    "\n",
    "proj_dir = os.path.join(os.pardir,os.pardir)\n",
    "data_dir = os.path.join(proj_dir,'data','preprocessing')\n",
    "\n",
    "src_dir = os.path.join(proj_dir,'src')\n",
    "sys.path.append(src_dir)\n",
    "from tools.NDinterp import NDinterp\n",
    "\n",
    "sose_path = os.path.join(data_dir,'external','sose')\n",
    "sys.path.append(sose_path)\n",
    "from mds import *\n",
    "\n",
    "roms_grd_path = os.path.join(data_dir,'processed',run+'_grd.nc')\n",
    "\n",
    "sose_salt_path = os.path.join(sose_path,'SALT_mnthlyBar')\n",
    "sose_theta_path = os.path.join(sose_path,'THETA_mnthlyBar')\n",
    "sose_grid_path = os.path.join(sose_path,'grid.mat')\n",
    "\n",
    "out_file = os.path.join(data_dir,'processed',run+'_nudge.nc')"
   ]
  },
  {
   "cell_type": "code",
   "execution_count": 4,
   "metadata": {},
   "outputs": [
    {
     "name": "stdout",
     "output_type": "stream",
     "text": [
      "prepare sose data for interpolation\n"
     ]
    }
   ],
   "source": [
    "#Read roms grid\n",
    "id = Dataset(roms_grd_path,'r')\n",
    "zice = id.variables['zice'][:,:]\n",
    "mask_rho = id.variables[\"mask_rho\"][:,:]\n",
    "lat_roms = id.variables['lat_rho'][:,:]\n",
    "lon_roms = id.variables['lon_rho'][:,:]\n",
    "id.close()\n",
    "\n",
    "#read sose data\n",
    "salt_raw = rdmds(sose_salt_path,itrs=100,rec=np.arange(24,36),returnmeta=False,lev=[0],fill_value=NaN)\n",
    "theta_raw = rdmds(sose_theta_path,itrs=100,rec=np.arange(24,36),returnmeta=False,lev=[0],fill_value=NaN)\n",
    "sose_grid = sio.loadmat(sose_grid_path)\n",
    "\n",
    "print('prepare sose data for interpolation')\n",
    "#apply sose mask to sose data\n",
    "sose_mask_raw = sose_grid[\"maskCtrlC\"]\n",
    "sose_mask = tile(swapaxes(sose_mask_raw[:,:,0],0,1),(12,1,1))\n",
    "\n",
    "salt_ma = ma.masked_where(sose_mask==0.0,salt_raw)\n",
    "theta_ma = ma.masked_where(sose_mask==0.0,theta_raw)\n",
    "\n",
    "# load lon and lat sose and change lon to -180 to 180\n",
    "lon_sose_raw = sose_grid[\"XC\"][:,0]\n",
    "lon_sose_raw[lon_sose_raw>180] -=360\n",
    "lat_sose = sose_grid[\"YC\"][0,:]\n",
    "\n",
    "#reorder lon so it's strictly ascending\n",
    "lon_order = argsort(lon_sose_raw)\n",
    "lon_sose_raw = lon_sose_raw[lon_order]\n",
    "\n",
    "# sose doesnt wrap around, so copy beginning and end\n",
    "lon_sose_tmp = zeros(size(lon_sose_raw)+2)\n",
    "lon_sose_tmp[0] = lon_sose_raw[-1]-360\n",
    "lon_sose_tmp[1:-1] = lon_sose_raw\n",
    "lon_sose_tmp[-1] = lon_sose_raw[0]+360\n",
    "lon_sose = lon_sose_tmp.copy()\n",
    "\n",
    "#reorder and copy sose_data according to lon manipulations\n",
    "def reorder_sose(data):\n",
    "    sss_sose_raw = ma.copy(data)\n",
    "    sss_sose_raw = sss_sose_raw[:,:,lon_order]\n",
    "    sss_sose_tmp = ma.zeros((size(sss_sose_raw,0),size(sss_sose_raw,1),size(sss_sose_raw,2)+2))\n",
    "    sss_sose_tmp[:,:,0] = sss_sose_raw[:,:,-1]\n",
    "    sss_sose_tmp[:,:,1:-1] = sss_sose_raw\n",
    "    sss_sose_tmp[:,:,-1] = sss_sose_raw[:,:,0]\n",
    "    sss_sose = sss_sose_tmp.copy()\n",
    "    return sss_sose\n",
    "\n",
    "salt = reorder_sose(salt_ma)\n",
    "theta = reorder_sose(theta_ma)"
   ]
  },
  {
   "cell_type": "code",
   "execution_count": 5,
   "metadata": {},
   "outputs": [],
   "source": [
    "def sose2roms(sose_data):\n",
    "\n",
    "    sss_interp = ma.zeros((12,size(lat_roms,0),size(lat_roms,1)))\n",
    "\n",
    "    for month,A in enumerate(sose_data):\n",
    "\n",
    "            print(\"processing month: \",month)\n",
    "    \n",
    "            # fill in land mask with nearest neighbours\n",
    "            print(\"fill in land mask\")\n",
    "            A[A.mask]=np.nan\n",
    "            B = NDinterp(A)\n",
    "            \n",
    "            #interpolate to roms grid\n",
    "            print(\"interpolate to roms grid\")\n",
    "            interp_func = RegularGridInterpolator((lat_sose,lon_sose),A,bounds_error=False, method=\"linear\",fill_value=NaN)\n",
    "            C = interp_func((lat_roms,lon_roms))\n",
    "\n",
    "            #fill in far south region\n",
    "            print(\"fill in far south\")\n",
    "            D = NDinterp(C)\n",
    "\n",
    "            sss_interp[month] = D\n",
    "            \n",
    "    return sss_interp"
   ]
  },
  {
   "cell_type": "code",
   "execution_count": null,
   "metadata": {
    "scrolled": true
   },
   "outputs": [
    {
     "name": "stdout",
     "output_type": "stream",
     "text": [
      "interpolate sose to roms grid and fill in mask\n",
      "processing month:  0\n",
      "fill in land mask\n",
      "interpolate to roms grid\n",
      "fill in far south\n",
      "processing month:  1\n",
      "fill in land mask\n",
      "interpolate to roms grid\n",
      "fill in far south\n"
     ]
    }
   ],
   "source": [
    "#interpolate sose to roms grid\n",
    "print('interpolate sose to roms grid and fill in mask')\n",
    "\n",
    "salt_it = sose2roms(salt)\n",
    "theta_it = sose2roms(theta)"
   ]
  },
  {
   "cell_type": "code",
   "execution_count": null,
   "metadata": {},
   "outputs": [],
   "source": []
  },
  {
   "cell_type": "code",
   "execution_count": 7,
   "metadata": {},
   "outputs": [
    {
     "name": "stdout",
     "output_type": "stream",
     "text": [
      "set up dQdSST array and time array\n"
     ]
    }
   ],
   "source": [
    "print('set up dQdSST array and time array')\n",
    "#set up surface net heat flux sensitivity to SST with dQdSST = -40 in takeshi melt season (Nov till Feb)\n",
    "dQdSST=np.ones(np.shape(salt_it))*-40\n",
    "dQdSST[:,zice<0.0]=0.0\n",
    "dQdSST[:,mask_rho==0]=0.0\n",
    "#dQdSST[2:-2,lat_roms<=-55]=0.0\n",
    "dQdSST[2:-2]=0.0\n",
    "\n",
    "time_start = 365/12*0.5\n",
    "time_step = 365/12\n",
    "time = np.arange(time_start,365,time_step)\n",
    "\n",
    "# Set up output file\n",
    "num_lon = size(lon_roms, 1)\n",
    "num_lat = size(lon_roms, 0)"
   ]
  },
  {
   "cell_type": "code",
   "execution_count": 8,
   "metadata": {},
   "outputs": [
    {
     "name": "stdout",
     "output_type": "stream",
     "text": [
      "Writing ../../data/preprocessing/processed/waom10_nudge.nc\n"
     ]
    }
   ],
   "source": [
    "print('Writing ' + out_file)\n",
    "out_id = Dataset(out_file, 'w')\n",
    "out_id.createDimension('xi_rho', num_lon)\n",
    "out_id.createDimension('eta_rho', num_lat)\n",
    "out_id.createDimension('sss_time', len(time))\n",
    "out_id.createVariable('sss_time', 'f8', ('sss_time'))\n",
    "out_id.createDimension('sst_time', len(time))\n",
    "out_id.createVariable('sst_time', 'f8', ('sst_time'))\n",
    "out_id.variables['sss_time'].long_name = 'time since initialization'\n",
    "out_id.variables['sss_time'].units = 'days'\n",
    "out_id.variables['sss_time'].cycle_length = 365.\n",
    "out_id.variables['sst_time'].long_name = 'time since initialization'\n",
    "out_id.variables['sst_time'].units = 'days'\n",
    "out_id.variables['sst_time'].cycle_length = 365.\n",
    "out_id.createVariable('SSS', 'f8', ('sss_time', 'eta_rho', 'xi_rho'))\n",
    "out_id.variables['SSS'].long_name = 'surface salinity'\n",
    "out_id.variables['SSS'].units = 'PSU'\n",
    "out_id.createVariable('SST', 'f8', ('sst_time', 'eta_rho', 'xi_rho'))\n",
    "out_id.variables['SST'].long_name = 'surface temperature'\n",
    "out_id.variables['SST'].units = 'degree Celsius'\n",
    "out_id.createVariable('dQdSST', 'f8', ('sst_time', 'eta_rho', 'xi_rho'))\n",
    "out_id.variables['dQdSST'].long_name = 'surface net heat flux sensitivity to SST'\n",
    "out_id.variables['dQdSST'].units = 'watt meter-2 Celsius-1'\n",
    "\n",
    "out_id.variables['sss_time'][:] = time  \n",
    "out_id.variables['sst_time'][:] = time        \n",
    "out_id.variables['SSS'][:] = salt_it\n",
    "out_id.variables['SST'][:] = theta_it\n",
    "out_id.variables['dQdSST'][:] = dQdSST\n",
    "\n",
    "out_id.close()"
   ]
  },
  {
   "cell_type": "code",
   "execution_count": null,
   "metadata": {},
   "outputs": [],
   "source": []
  }
 ],
 "metadata": {
  "kernelspec": {
   "display_name": "Python 3",
   "language": "python",
   "name": "python3"
  },
  "language_info": {
   "codemirror_mode": {
    "name": "ipython",
    "version": 3
   },
   "file_extension": ".py",
   "mimetype": "text/x-python",
   "name": "python",
   "nbconvert_exporter": "python",
   "pygments_lexer": "ipython3",
   "version": "3.6.11"
  }
 },
 "nbformat": 4,
 "nbformat_minor": 2
}
