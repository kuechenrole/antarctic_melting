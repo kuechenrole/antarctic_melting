{
 "cells": [
  {
   "cell_type": "code",
   "execution_count": 5,
   "metadata": {},
   "outputs": [],
   "source": [
    "import xarray as xr\n",
    "import matplotlib.pyplot as plt\n",
    "import os\n",
    "import sys\n",
    "import numpy as np\n",
    "import pandas as pd\n",
    "import cmocean.cm as ocm\n",
    "\n",
    "proj_dir = os.path.join(os.pardir,os.pardir)\n",
    "data_dir = os.path.join(proj_dir,'data')\n",
    "ext_dir = os.path.join(data_dir,'analysis','external')\n",
    "int_dir = os.path.join(data_dir,'analysis','interim')\n",
    "pro_dir = os.path.join(data_dir,'analysis','processed')\n",
    "fig_dir = os.path.join(os.pardir,os.pardir,'reports','relation_melting','figures')\n",
    "tab_dir = os.path.join(os.pardir,os.pardir,'reports','relation_melting','tables')\n",
    "\n",
    "src_dir = os.path.join(proj_dir,'src')\n",
    "sys.path.append(src_dir)\n",
    "from visualization.shiftedColorMap import shiftedColorMap\n",
    "\n",
    "s2a = 3600*24*365.25"
   ]
  },
  {
   "cell_type": "code",
   "execution_count": 7,
   "metadata": {},
   "outputs": [],
   "source": [
    "grid_path = os.path.join(int_dir,'grd2_dV.nc')\n",
    "star_path = os.path.join(data_dir,'analysis','raw','waom2','ocean_avg_0538-0610_star.nc')\n",
    "\n",
    "grd = xr.open_dataset(grid_path)\n",
    "stars = xr.open_dataset(star_path)"
   ]
  },
  {
   "cell_type": "code",
   "execution_count": 9,
   "metadata": {},
   "outputs": [
    {
     "ename": "NameError",
     "evalue": "name 'star' is not defined",
     "output_type": "error",
     "traceback": [
      "\u001b[0;31m---------------------------------------------------------------------------\u001b[0m",
      "\u001b[0;31mNameError\u001b[0m                                 Traceback (most recent call last)",
      "\u001b[0;32m<ipython-input-9-908559155efa>\u001b[0m in \u001b[0;36m<module>\u001b[0;34m\u001b[0m\n\u001b[0;32m----> 1\u001b[0;31m \u001b[0mstar\u001b[0m\u001b[0;34m[\u001b[0m\u001b[0;34m'ustar'\u001b[0m\u001b[0;34m]\u001b[0m\u001b[0;34m\u001b[0m\u001b[0m\n\u001b[0m",
      "\u001b[0;31mNameError\u001b[0m: name 'star' is not defined"
     ]
    }
   ],
   "source": [
    "star['ustar']"
   ]
  }
 ],
 "metadata": {
  "kernelspec": {
   "display_name": "Python 3",
   "language": "python",
   "name": "python3"
  },
  "language_info": {
   "codemirror_mode": {
    "name": "ipython",
    "version": 3
   },
   "file_extension": ".py",
   "mimetype": "text/x-python",
   "name": "python",
   "nbconvert_exporter": "python",
   "pygments_lexer": "ipython3",
   "version": "3.6.6"
  }
 },
 "nbformat": 4,
 "nbformat_minor": 2
}
