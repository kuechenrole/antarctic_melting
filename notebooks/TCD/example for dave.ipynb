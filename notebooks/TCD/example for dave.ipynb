{
 "cells": [
  {
   "cell_type": "markdown",
   "metadata": {},
   "source": [
    "## Preamble"
   ]
  },
  {
   "cell_type": "code",
   "execution_count": null,
   "metadata": {},
   "outputs": [],
   "source": [
    "import os\n",
    "import sys\n",
    "import xarray as xr\n",
    "import matplotlib.pyplot as plt\n",
    "import numpy as np\n",
    "import cmocean.cm as ocm\n",
    "\n",
    "proj_dir = '/home/ubuntu/bigStick/antarctic_melting'\n",
    "data_dir = os.path.join(proj_dir,'data','analysis')\n",
    "fig_dir = os.path.join(proj_dir,'reports','tidal_melting','figures')"
   ]
  },
  {
   "cell_type": "markdown",
   "metadata": {},
   "source": [
    "## Plotting functions"
   ]
  },
  {
   "cell_type": "code",
   "execution_count": null,
   "metadata": {},
   "outputs": [],
   "source": [
    "def plot_ax(ax,da,title,vmin=None,vmax=None):  \n",
    "    if vmin == None:\n",
    "        da.plot(ax=ax,vmin=-da.std()*2,vmax=da.std()*2,cmap=cmap,\n",
    "                cbar_kwargs={'label': 'u*T* in $10^{-4}$ m/s*degC'})\n",
    "    else:\n",
    "        da.plot(ax=ax,vmin=vmin,vmax=vmax,cmap=cmap,\n",
    "                cbar_kwargs={'label': 'u*T* in $10^{-4}$ m/s*degC'})\n",
    "    ax.set_title(text)\n",
    "    return ax\n",
    "\n",
    "def plot_comparison(var,func,text,vmin=None,vmax=None):\n",
    "    fig,axes = plt.subplots(ncols=2,nrows=2,figsize=figsize)\n",
    "    \n",
    "    for ax, file, text in zip([axes.flatten(),\n",
    "                               ['ref.nc','sens1.nc','sens2.nc','sens3.nc'],\n",
    "                               ['reference','sensitivity 1','sensitivity 2','sensitivity 3']]):\n",
    "        fullPath = os.path.join(data_dir,file)\n",
    "        da = xr.open_dataset(fullPath)[var]  \n",
    "        ax = plot_ax(ax,func(da),f'{text} of mean',vmin,vmax)\n",
    "    \n",
    "    for ax in axes.flatten():\n",
    "        ax.set_aspect('equal')\n",
    "        ax.axis('off')\n",
    "        #ax.set_facecolor('gray')\n",
    "        \n",
    "    plt.tight_layout()\n",
    "    plt.subplots_adjust(wspace=0.1,hspace=0.2)\n",
    "    plt.savefig(os.path.join(fig_dir,text+'_comparison.png'),format='png',bbox_inches = \"tight\")\n",
    "    plt.show()"
   ]
  },
  {
   "cell_type": "markdown",
   "metadata": {},
   "source": [
    "## Definition of metric function and execution of plotting"
   ]
  },
  {
   "cell_type": "markdown",
   "metadata": {},
   "source": [
    "### Mean Salt"
   ]
  },
  {
   "cell_type": "code",
   "execution_count": null,
   "metadata": {},
   "outputs": [],
   "source": [
    "def time_mean(da):\n",
    "    return da.mean('ocean_time')\n",
    "\n",
    "plot_comparison('salt',time_mean,'time mean',-2,2)"
   ]
  }
 ],
 "metadata": {
  "kernelspec": {
   "display_name": "Python 3",
   "language": "python",
   "name": "python3"
  },
  "language_info": {
   "codemirror_mode": {
    "name": "ipython",
    "version": 3
   },
   "file_extension": ".py",
   "mimetype": "text/x-python",
   "name": "python",
   "nbconvert_exporter": "python",
   "pygments_lexer": "ipython3",
   "version": "3.6.6"
  }
 },
 "nbformat": 4,
 "nbformat_minor": 2
}
