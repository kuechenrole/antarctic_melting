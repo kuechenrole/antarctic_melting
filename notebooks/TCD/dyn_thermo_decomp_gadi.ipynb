{
 "cells": [
  {
   "cell_type": "code",
   "execution_count": 1,
   "metadata": {},
   "outputs": [],
   "source": [
    "import os\n",
    "import sys\n",
    "import xarray as xr\n",
    "import numpy as np\n",
    "\n",
    "\n",
    "\n",
    "proj_dir = '/home/ubuntu/bigStick/antarctic_melting'\n",
    "data_dir = os.path.join(proj_dir,'data','analysis')\n",
    "raw_dir = os.path.join(data_dir,'raw')\n",
    "int_dir = os.path.join(data_dir,'interim')\n",
    "fig_dir = os.path.join(proj_dir,'reports','tidal_melting','figures')\n",
    "tab_dir = os.path.join(proj_dir,'reports','tidal_melting','tables')\n",
    "\n",
    "src_dir = os.path.join(proj_dir,'src')\n",
    "sys.path.append(src_dir)\n",
    "tools_dir = os.path.join(proj_dir,'src','tools')\n",
    "sys.path.append(tools_dir)"
   ]
  },
  {
   "cell_type": "code",
   "execution_count": 12,
   "metadata": {},
   "outputs": [],
   "source": [
    "file_path = os.path.join(raw_dir,'scratch','waom4','ocean_avg_hr_0010.nc')\n",
    "tides = xr.open_dataset(file_path)#,chunks={'xi_rho':75,'eta_rho':75})\n",
    "file_path = os.path.join(raw_dir,'scratch','waom4_nt','ocean_avg_hr_0010.nc')\n",
    "no_tides = xr.open_dataset(file_path)#,chunks={'xi_rho':75,'eta_rho':75})\n",
    "grid_path = os.path.join(int_dir,'grd4_dV.nc')\n",
    "grd = xr.open_dataset(grid_path)\n",
    "\n",
    "mask = xr.open_dataarray(os.path.join(int_dir,'mask_shelf.nc'))\n",
    "\n",
    "outpath = os.path.join(int_dir,'test.nc')"
   ]
  },
  {
   "cell_type": "code",
   "execution_count": 8,
   "metadata": {},
   "outputs": [
    {
     "name": "stdout",
     "output_type": "stream",
     "text": [
      "<Client: scheduler='tcp://127.0.0.1:60796' processes=16 cores=16>\n"
     ]
    }
   ],
   "source": [
    "from dask.distributed import Client\n",
    "client = Client(scheduler_file='scheduler.json')\n",
    "#client = Client()\n",
    "print(client)\n",
    "chunks = {'xi_rho':30,'eta_rho':30}"
   ]
  },
  {
   "cell_type": "code",
   "execution_count": null,
   "metadata": {},
   "outputs": [],
   "source": [
    "sel = {'xi_rho' : slice(350,650),'eta_rho' : slice(700,950),\n",
    "           'xi_u' : slice(350,649),'eta_u' : slice(700,950),\n",
    "           'xi_v' : slice(350,650),'eta_v' : slice(700,949)}\n",
    "FRIS = tides.isel(sel)\n",
    "FRIS_nt = no_tides.isel(sel)\n",
    "rho_sel = {'xi_rho' : slice(350,650),'eta_rho' : slice(700,950)}\n",
    "FRIS_mask = ((grd.mask_rho==1) & (mask)).isel(rho_sel)\n",
    "\n",
    "FRIS = FRIS.chunk(chunks)\n",
    "FRIS_nt = FRIS_nt.chunk(chunks)\n",
    "\n",
    "dyn = ((FRIS.ustar-FRIS_nt.ustar)*FRIS_nt.Tstar).where(FRIS_mask).mean('ocean_time')\n",
    "print('ping')\n",
    "therm = ((FRIS.Tstar-FRIS_nt.Tstar)*FRIS_nt.ustar).where(FRIS_mask).mean('ocean_time')\n",
    "print('ping')\n",
    "cov = ((FRIS.ustar-FRIS_nt.ustar)*(FRIS.Tstar-FRIS_nt.Tstar)).where(FRIS_mask).mean('ocean_time')\n",
    "print('ping')\n",
    "dMstar = ((FRIS.ustar*FRIS.Tstar).where(FRIS_mask).mean('ocean_time')-\n",
    "          (FRIS_nt.ustar*FRIS_nt.Tstar).where(FRIS_mask).mean('ocean_time'))\n",
    "print('ping')\n",
    "dsum = (therm2+cov2+dyn2)"
   ]
  },
  {
   "cell_type": "code",
   "execution_count": 15,
   "metadata": {
    "scrolled": true
   },
   "outputs": [],
   "source": [
    "\n",
    "xr.Dataset({'dyn':dyn,'therm':therm,'cov':cov,'dMstar':dMstar,'dsum':dsum}).to_netcdf(outpath)"
   ]
  },
  {
   "cell_type": "code",
   "execution_count": null,
   "metadata": {},
   "outputs": [],
   "source": [
    "!pangeo.end.sh"
   ]
  }
 ],
 "metadata": {
  "kernelspec": {
   "display_name": "Python 3",
   "language": "python",
   "name": "python3"
  },
  "language_info": {
   "codemirror_mode": {
    "name": "ipython",
    "version": 3
   },
   "file_extension": ".py",
   "mimetype": "text/x-python",
   "name": "python",
   "nbconvert_exporter": "python",
   "pygments_lexer": "ipython3",
   "version": "3.6.6"
  }
 },
 "nbformat": 4,
 "nbformat_minor": 2
}
